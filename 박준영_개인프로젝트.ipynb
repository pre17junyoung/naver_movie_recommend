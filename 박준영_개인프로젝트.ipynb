{
 "cells": [
  {
   "cell_type": "markdown",
   "metadata": {},
   "source": [
    "# 1. <big>프로젝트 개요</big>"
   ]
  },
  {
   "cell_type": "markdown",
   "metadata": {},
   "source": [
    "## 1.1 프로젝트 명 및 기간"
   ]
  },
  {
   "cell_type": "markdown",
   "metadata": {},
   "source": [
    "### - 프로젝트 명 : <span style=color:green>네이버</span> 영화 추천 알고리즘\n",
    "### - 프로젝트 기간 : `2018.01.17 ~ 2018.3 (1.5 개월)`"
   ]
  },
  {
   "cell_type": "markdown",
   "metadata": {},
   "source": [
    "## 1.2 프로젝트 `목표`"
   ]
  },
  {
   "cell_type": "markdown",
   "metadata": {},
   "source": [
    "### - User 에게 가장 알맞은 `추천 영화` 목록 제공"
   ]
  },
  {
   "cell_type": "markdown",
   "metadata": {},
   "source": [
    "## 1.3 프로젝트 `진행 방향`"
   ]
  },
  {
   "cell_type": "markdown",
   "metadata": {},
   "source": [
    "### - Sparse matrix 알고리즘을 풀기위해 matrix factorization / Deep learning 적용"
   ]
  },
  {
   "cell_type": "markdown",
   "metadata": {},
   "source": [
    "# 2. <big>데이터</big>"
   ]
  },
  {
   "cell_type": "code",
   "execution_count": 42,
   "metadata": {},
   "outputs": [],
   "source": [
    "import tensorflow as tf\n",
    "import requests\n",
    "import pickle\n",
    "import time\n",
    "from bs4 import BeautifulSoup\n",
    "from pandas import pivot_table\n",
    "from scipy import spatial\n",
    "from sklearn.model_selection import train_test_split\n",
    "import keras\n",
    "from IPython.display import SVG\n",
    "from keras.optimizers import Adam\n",
    "from keras.utils.vis_utils import model_to_dot\n",
    "from keras.constraints import non_neg\n",
    "from sklearn.metrics import mean_absolute_error\n",
    "from IPython.display import SVG\n",
    "from keras.utils.vis_utils import model_to_dot\n",
    "from keras.layers import Input, Dense, Embedding, Reshape, Dot, Concatenate\n",
    "from keras.models import Model, Sequential\n",
    "from keras.callbacks import ModelCheckpoint\n",
    "tf.logging.set_verbosity(tf.logging.ERROR)"
   ]
  },
  {
   "cell_type": "markdown",
   "metadata": {},
   "source": [
    "## 2-1. 데이터 `크롤링`\n",
    "    - 네이버 영화 평점 사이트(https://movie.naver.com/movie/point/af/list.nhn)에서 데이터 크롤링(BeautifulSoup 이용)\n",
    "    - aws 서버에서 30분 간격으로 데이터 추가 및 업데이트 \n",
    "    - csv파일로 저장"
   ]
  },
  {
   "cell_type": "markdown",
   "metadata": {},
   "source": [
    "## 2.2 데이터 `확인 / 분석`"
   ]
  },
  {
   "cell_type": "markdown",
   "metadata": {},
   "source": [
    "### 데이터 불러오기\n",
    "- rows : `27408`\n",
    "- columns : `3(movie, name, point)`"
   ]
  },
  {
   "cell_type": "code",
   "execution_count": 1,
   "metadata": {},
   "outputs": [
    {
     "data": {
      "text/html": [
       "<div>\n",
       "<style scoped>\n",
       "    .dataframe tbody tr th:only-of-type {\n",
       "        vertical-align: middle;\n",
       "    }\n",
       "\n",
       "    .dataframe tbody tr th {\n",
       "        vertical-align: top;\n",
       "    }\n",
       "\n",
       "    .dataframe thead th {\n",
       "        text-align: right;\n",
       "    }\n",
       "</style>\n",
       "<table border=\"1\" class=\"dataframe\">\n",
       "  <thead>\n",
       "    <tr style=\"text-align: right;\">\n",
       "      <th></th>\n",
       "      <th>movie</th>\n",
       "      <th>name</th>\n",
       "      <th>point</th>\n",
       "    </tr>\n",
       "  </thead>\n",
       "  <tbody>\n",
       "    <tr>\n",
       "      <th>27171</th>\n",
       "      <td>보헤미안 랩소디</td>\n",
       "      <td>fhfh****</td>\n",
       "      <td>10</td>\n",
       "    </tr>\n",
       "    <tr>\n",
       "      <th>27172</th>\n",
       "      <td>러브 유어셀프 인 서울</td>\n",
       "      <td>podo****</td>\n",
       "      <td>10</td>\n",
       "    </tr>\n",
       "    <tr>\n",
       "      <th>27173</th>\n",
       "      <td>극한직업</td>\n",
       "      <td>fhfh****</td>\n",
       "      <td>10</td>\n",
       "    </tr>\n",
       "    <tr>\n",
       "      <th>27174</th>\n",
       "      <td>뺑반</td>\n",
       "      <td>lsj0****</td>\n",
       "      <td>1</td>\n",
       "    </tr>\n",
       "    <tr>\n",
       "      <th>27175</th>\n",
       "      <td>극한직업</td>\n",
       "      <td>1729****</td>\n",
       "      <td>10</td>\n",
       "    </tr>\n",
       "  </tbody>\n",
       "</table>\n",
       "</div>"
      ],
      "text/plain": [
       "              movie      name  point\n",
       "27171      보헤미안 랩소디  fhfh****     10\n",
       "27172  러브 유어셀프 인 서울  podo****     10\n",
       "27173          극한직업  fhfh****     10\n",
       "27174            뺑반  lsj0****      1\n",
       "27175          극한직업  1729****     10"
      ]
     },
     "execution_count": 1,
     "metadata": {},
     "output_type": "execute_result"
    }
   ],
   "source": [
    "df = pd.read_csv('movie_point_crawling.csv')\n",
    "df = df[['movie','name','point']]\n",
    "df.tail()"
   ]
  },
  {
   "cell_type": "code",
   "execution_count": 2,
   "metadata": {},
   "outputs": [
    {
     "data": {
      "text/html": [
       "<div>\n",
       "<style scoped>\n",
       "    .dataframe tbody tr th:only-of-type {\n",
       "        vertical-align: middle;\n",
       "    }\n",
       "\n",
       "    .dataframe tbody tr th {\n",
       "        vertical-align: top;\n",
       "    }\n",
       "\n",
       "    .dataframe thead th {\n",
       "        text-align: right;\n",
       "    }\n",
       "</style>\n",
       "<table border=\"1\" class=\"dataframe\">\n",
       "  <thead>\n",
       "    <tr style=\"text-align: right;\">\n",
       "      <th></th>\n",
       "      <th>movie</th>\n",
       "      <th>name</th>\n",
       "      <th>point</th>\n",
       "    </tr>\n",
       "  </thead>\n",
       "  <tbody>\n",
       "    <tr>\n",
       "      <th>19635</th>\n",
       "      <td>타임 패러독스</td>\n",
       "      <td>ssyj****</td>\n",
       "      <td>6</td>\n",
       "    </tr>\n",
       "    <tr>\n",
       "      <th>19636</th>\n",
       "      <td>극한직업</td>\n",
       "      <td>bara****</td>\n",
       "      <td>8</td>\n",
       "    </tr>\n",
       "    <tr>\n",
       "      <th>19637</th>\n",
       "      <td>드래곤 길들이기 3</td>\n",
       "      <td>wing****</td>\n",
       "      <td>10</td>\n",
       "    </tr>\n",
       "    <tr>\n",
       "      <th>19638</th>\n",
       "      <td>극한직업</td>\n",
       "      <td>dlal****</td>\n",
       "      <td>10</td>\n",
       "    </tr>\n",
       "    <tr>\n",
       "      <th>19639</th>\n",
       "      <td>뺑반</td>\n",
       "      <td>dhds****</td>\n",
       "      <td>8</td>\n",
       "    </tr>\n",
       "  </tbody>\n",
       "</table>\n",
       "</div>"
      ],
      "text/plain": [
       "            movie      name  point\n",
       "19635     타임 패러독스  ssyj****      6\n",
       "19636        극한직업  bara****      8\n",
       "19637  드래곤 길들이기 3  wing****     10\n",
       "19638        극한직업  dlal****     10\n",
       "19639          뺑반  dhds****      8"
      ]
     },
     "execution_count": 2,
     "metadata": {},
     "output_type": "execute_result"
    }
   ],
   "source": [
    "add_df = pd.read_csv('movie.csv')\n",
    "add_df = add_df[['movie', 'name','point']]\n",
    "add_df.tail()"
   ]
  },
  {
   "cell_type": "code",
   "execution_count": 3,
   "metadata": {},
   "outputs": [
    {
     "data": {
      "text/html": [
       "<div>\n",
       "<style scoped>\n",
       "    .dataframe tbody tr th:only-of-type {\n",
       "        vertical-align: middle;\n",
       "    }\n",
       "\n",
       "    .dataframe tbody tr th {\n",
       "        vertical-align: top;\n",
       "    }\n",
       "\n",
       "    .dataframe thead th {\n",
       "        text-align: right;\n",
       "    }\n",
       "</style>\n",
       "<table border=\"1\" class=\"dataframe\">\n",
       "  <thead>\n",
       "    <tr style=\"text-align: right;\">\n",
       "      <th></th>\n",
       "      <th>index</th>\n",
       "      <th>movie</th>\n",
       "      <th>name</th>\n",
       "      <th>point</th>\n",
       "    </tr>\n",
       "  </thead>\n",
       "  <tbody>\n",
       "    <tr>\n",
       "      <th>27403</th>\n",
       "      <td>46688</td>\n",
       "      <td>갈매기</td>\n",
       "      <td>rain****</td>\n",
       "      <td>9</td>\n",
       "    </tr>\n",
       "    <tr>\n",
       "      <th>27404</th>\n",
       "      <td>46689</td>\n",
       "      <td>뺑반</td>\n",
       "      <td>uej8****</td>\n",
       "      <td>5</td>\n",
       "    </tr>\n",
       "    <tr>\n",
       "      <th>27405</th>\n",
       "      <td>46690</td>\n",
       "      <td>너의 결혼식</td>\n",
       "      <td>luah****</td>\n",
       "      <td>10</td>\n",
       "    </tr>\n",
       "    <tr>\n",
       "      <th>27406</th>\n",
       "      <td>46692</td>\n",
       "      <td>극장판 헬로카봇:옴파로스 섬의 비밀</td>\n",
       "      <td>gkdu****</td>\n",
       "      <td>8</td>\n",
       "    </tr>\n",
       "    <tr>\n",
       "      <th>27407</th>\n",
       "      <td>46693</td>\n",
       "      <td>미래의 미라이</td>\n",
       "      <td>jute****</td>\n",
       "      <td>6</td>\n",
       "    </tr>\n",
       "  </tbody>\n",
       "</table>\n",
       "</div>"
      ],
      "text/plain": [
       "       index                movie      name  point\n",
       "27403  46688                  갈매기  rain****      9\n",
       "27404  46689                   뺑반  uej8****      5\n",
       "27405  46690               너의 결혼식  luah****     10\n",
       "27406  46692  극장판 헬로카봇:옴파로스 섬의 비밀  gkdu****      8\n",
       "27407  46693              미래의 미라이  jute****      6"
      ]
     },
     "execution_count": 3,
     "metadata": {},
     "output_type": "execute_result"
    }
   ],
   "source": [
    "frames = [df, add_df]\n",
    "df = pd.concat(frames, ignore_index=True)\n",
    "df = df.drop_duplicates(subset=['movie', 'name'], keep='first').reset_index()\n",
    "df.tail()"
   ]
  },
  {
   "cell_type": "code",
   "execution_count": 5,
   "metadata": {
    "scrolled": true
   },
   "outputs": [
    {
     "data": {
      "text/html": [
       "<div>\n",
       "<style scoped>\n",
       "    .dataframe tbody tr th:only-of-type {\n",
       "        vertical-align: middle;\n",
       "    }\n",
       "\n",
       "    .dataframe tbody tr th {\n",
       "        vertical-align: top;\n",
       "    }\n",
       "\n",
       "    .dataframe thead th {\n",
       "        text-align: right;\n",
       "    }\n",
       "</style>\n",
       "<table border=\"1\" class=\"dataframe\">\n",
       "  <thead>\n",
       "    <tr style=\"text-align: right;\">\n",
       "      <th></th>\n",
       "      <th>movie</th>\n",
       "      <th>name</th>\n",
       "      <th>point</th>\n",
       "    </tr>\n",
       "  </thead>\n",
       "  <tbody>\n",
       "    <tr>\n",
       "      <th>27403</th>\n",
       "      <td>갈매기</td>\n",
       "      <td>rain****</td>\n",
       "      <td>9</td>\n",
       "    </tr>\n",
       "    <tr>\n",
       "      <th>27404</th>\n",
       "      <td>뺑반</td>\n",
       "      <td>uej8****</td>\n",
       "      <td>5</td>\n",
       "    </tr>\n",
       "    <tr>\n",
       "      <th>27405</th>\n",
       "      <td>너의 결혼식</td>\n",
       "      <td>luah****</td>\n",
       "      <td>10</td>\n",
       "    </tr>\n",
       "    <tr>\n",
       "      <th>27406</th>\n",
       "      <td>극장판 헬로카봇:옴파로스 섬의 비밀</td>\n",
       "      <td>gkdu****</td>\n",
       "      <td>8</td>\n",
       "    </tr>\n",
       "    <tr>\n",
       "      <th>27407</th>\n",
       "      <td>미래의 미라이</td>\n",
       "      <td>jute****</td>\n",
       "      <td>6</td>\n",
       "    </tr>\n",
       "  </tbody>\n",
       "</table>\n",
       "</div>"
      ],
      "text/plain": [
       "                     movie      name  point\n",
       "27403                  갈매기  rain****      9\n",
       "27404                   뺑반  uej8****      5\n",
       "27405               너의 결혼식  luah****     10\n",
       "27406  극장판 헬로카봇:옴파로스 섬의 비밀  gkdu****      8\n",
       "27407              미래의 미라이  jute****      6"
      ]
     },
     "execution_count": 5,
     "metadata": {},
     "output_type": "execute_result"
    }
   ],
   "source": [
    "df = df[['movie','name','point']]\n",
    "df.tail()"
   ]
  },
  {
   "cell_type": "code",
   "execution_count": 9,
   "metadata": {},
   "outputs": [
    {
     "data": {
      "text/plain": [
       "27408"
      ]
     },
     "execution_count": 9,
     "metadata": {},
     "output_type": "execute_result"
    }
   ],
   "source": [
    "len(df)"
   ]
  },
  {
   "cell_type": "code",
   "execution_count": 6,
   "metadata": {},
   "outputs": [],
   "source": [
    "df.to_csv('movie_point_crawling.csv')"
   ]
  },
  {
   "cell_type": "markdown",
   "metadata": {},
   "source": [
    "### 포인트 점수\n",
    "- `1점 ~ 10점`"
   ]
  },
  {
   "cell_type": "code",
   "execution_count": 10,
   "metadata": {},
   "outputs": [
    {
     "data": {
      "text/plain": [
       "[1, 2, 3, 4, 5, 6, 7, 8, 9, 10]"
      ]
     },
     "execution_count": 10,
     "metadata": {},
     "output_type": "execute_result"
    }
   ],
   "source": [
    "sorted(df['point'].unique())"
   ]
  },
  {
   "cell_type": "markdown",
   "metadata": {},
   "source": [
    "### User와 Movie 고유 번호 추가"
   ]
  },
  {
   "cell_type": "code",
   "execution_count": 11,
   "metadata": {},
   "outputs": [
    {
     "name": "stdout",
     "output_type": "stream",
     "text": [
      "27408\n"
     ]
    },
    {
     "data": {
      "text/html": [
       "<div>\n",
       "<style scoped>\n",
       "    .dataframe tbody tr th:only-of-type {\n",
       "        vertical-align: middle;\n",
       "    }\n",
       "\n",
       "    .dataframe tbody tr th {\n",
       "        vertical-align: top;\n",
       "    }\n",
       "\n",
       "    .dataframe thead th {\n",
       "        text-align: right;\n",
       "    }\n",
       "</style>\n",
       "<table border=\"1\" class=\"dataframe\">\n",
       "  <thead>\n",
       "    <tr style=\"text-align: right;\">\n",
       "      <th></th>\n",
       "      <th>index</th>\n",
       "      <th>movie</th>\n",
       "      <th>name</th>\n",
       "      <th>point</th>\n",
       "      <th>user_id</th>\n",
       "      <th>movie_id</th>\n",
       "    </tr>\n",
       "  </thead>\n",
       "  <tbody>\n",
       "    <tr>\n",
       "      <th>27403</th>\n",
       "      <td>27403</td>\n",
       "      <td>갈매기</td>\n",
       "      <td>rain****</td>\n",
       "      <td>9</td>\n",
       "      <td>11881</td>\n",
       "      <td>91</td>\n",
       "    </tr>\n",
       "    <tr>\n",
       "      <th>27404</th>\n",
       "      <td>27404</td>\n",
       "      <td>뺑반</td>\n",
       "      <td>uej8****</td>\n",
       "      <td>5</td>\n",
       "      <td>14684</td>\n",
       "      <td>1019</td>\n",
       "    </tr>\n",
       "    <tr>\n",
       "      <th>27405</th>\n",
       "      <td>27405</td>\n",
       "      <td>너의 결혼식</td>\n",
       "      <td>luah****</td>\n",
       "      <td>10</td>\n",
       "      <td>9318</td>\n",
       "      <td>337</td>\n",
       "    </tr>\n",
       "    <tr>\n",
       "      <th>27406</th>\n",
       "      <td>27406</td>\n",
       "      <td>극장판 헬로카봇:옴파로스 섬의 비밀</td>\n",
       "      <td>gkdu****</td>\n",
       "      <td>8</td>\n",
       "      <td>4962</td>\n",
       "      <td>244</td>\n",
       "    </tr>\n",
       "    <tr>\n",
       "      <th>27407</th>\n",
       "      <td>27407</td>\n",
       "      <td>미래의 미라이</td>\n",
       "      <td>jute****</td>\n",
       "      <td>6</td>\n",
       "      <td>7476</td>\n",
       "      <td>797</td>\n",
       "    </tr>\n",
       "  </tbody>\n",
       "</table>\n",
       "</div>"
      ],
      "text/plain": [
       "       index                movie      name  point  user_id  movie_id\n",
       "27403  27403                  갈매기  rain****      9    11881        91\n",
       "27404  27404                   뺑반  uej8****      5    14684      1019\n",
       "27405  27405               너의 결혼식  luah****     10     9318       337\n",
       "27406  27406  극장판 헬로카봇:옴파로스 섬의 비밀  gkdu****      8     4962       244\n",
       "27407  27407              미래의 미라이  jute****      6     7476       797"
      ]
     },
     "execution_count": 11,
     "metadata": {},
     "output_type": "execute_result"
    }
   ],
   "source": [
    "df[\"user_id\"] = df.name.astype('category').cat.codes.values\n",
    "df[\"movie_id\"] = df.movie.astype('category').cat.codes.values\n",
    "df = df[['movie','name','point','user_id','movie_id']]\n",
    "df = df.reset_index()\n",
    "print(len(df))\n",
    "df.tail()"
   ]
  },
  {
   "cell_type": "markdown",
   "metadata": {},
   "source": [
    "### 총 영화 데이터 갯수 : `2274`편"
   ]
  },
  {
   "cell_type": "code",
   "execution_count": 13,
   "metadata": {},
   "outputs": [
    {
     "data": {
      "text/plain": [
       "2274"
      ]
     },
     "execution_count": 13,
     "metadata": {},
     "output_type": "execute_result"
    }
   ],
   "source": [
    "len(df['movie_id'].unique())"
   ]
  },
  {
   "cell_type": "markdown",
   "metadata": {},
   "source": [
    "### 총 user 명 수 : `16681`명"
   ]
  },
  {
   "cell_type": "code",
   "execution_count": 15,
   "metadata": {},
   "outputs": [
    {
     "data": {
      "text/plain": [
       "16681"
      ]
     },
     "execution_count": 15,
     "metadata": {},
     "output_type": "execute_result"
    }
   ],
   "source": [
    "len(df['user_id'].unique())"
   ]
  },
  {
   "cell_type": "markdown",
   "metadata": {},
   "source": [
    "### 각 point별 point 총 갯수"
   ]
  },
  {
   "cell_type": "code",
   "execution_count": 16,
   "metadata": {
    "scrolled": true
   },
   "outputs": [
    {
     "data": {
      "text/html": [
       "<div>\n",
       "<style scoped>\n",
       "    .dataframe tbody tr th:only-of-type {\n",
       "        vertical-align: middle;\n",
       "    }\n",
       "\n",
       "    .dataframe tbody tr th {\n",
       "        vertical-align: top;\n",
       "    }\n",
       "\n",
       "    .dataframe thead th {\n",
       "        text-align: right;\n",
       "    }\n",
       "</style>\n",
       "<table border=\"1\" class=\"dataframe\">\n",
       "  <thead>\n",
       "    <tr style=\"text-align: right;\">\n",
       "      <th></th>\n",
       "      <th>point</th>\n",
       "      <th>point_count</th>\n",
       "    </tr>\n",
       "  </thead>\n",
       "  <tbody>\n",
       "    <tr>\n",
       "      <th>0</th>\n",
       "      <td>1</td>\n",
       "      <td>2293</td>\n",
       "    </tr>\n",
       "    <tr>\n",
       "      <th>1</th>\n",
       "      <td>2</td>\n",
       "      <td>1000</td>\n",
       "    </tr>\n",
       "    <tr>\n",
       "      <th>2</th>\n",
       "      <td>3</td>\n",
       "      <td>216</td>\n",
       "    </tr>\n",
       "    <tr>\n",
       "      <th>3</th>\n",
       "      <td>4</td>\n",
       "      <td>640</td>\n",
       "    </tr>\n",
       "    <tr>\n",
       "      <th>4</th>\n",
       "      <td>5</td>\n",
       "      <td>465</td>\n",
       "    </tr>\n",
       "    <tr>\n",
       "      <th>5</th>\n",
       "      <td>6</td>\n",
       "      <td>1289</td>\n",
       "    </tr>\n",
       "    <tr>\n",
       "      <th>6</th>\n",
       "      <td>7</td>\n",
       "      <td>900</td>\n",
       "    </tr>\n",
       "    <tr>\n",
       "      <th>7</th>\n",
       "      <td>8</td>\n",
       "      <td>2664</td>\n",
       "    </tr>\n",
       "    <tr>\n",
       "      <th>8</th>\n",
       "      <td>9</td>\n",
       "      <td>1711</td>\n",
       "    </tr>\n",
       "    <tr>\n",
       "      <th>9</th>\n",
       "      <td>10</td>\n",
       "      <td>16230</td>\n",
       "    </tr>\n",
       "  </tbody>\n",
       "</table>\n",
       "</div>"
      ],
      "text/plain": [
       "   point  point_count\n",
       "0      1         2293\n",
       "1      2         1000\n",
       "2      3          216\n",
       "3      4          640\n",
       "4      5          465\n",
       "5      6         1289\n",
       "6      7          900\n",
       "7      8         2664\n",
       "8      9         1711\n",
       "9     10        16230"
      ]
     },
     "execution_count": 16,
     "metadata": {},
     "output_type": "execute_result"
    }
   ],
   "source": [
    "df_count = df.groupby('point').size().reset_index(name = \"point_count\")\n",
    "df_count"
   ]
  },
  {
   "cell_type": "code",
   "execution_count": 18,
   "metadata": {
    "scrolled": false
   },
   "outputs": [
    {
     "data": {
      "text/plain": [
       "<matplotlib.axes._subplots.AxesSubplot at 0x11c097358>"
      ]
     },
     "execution_count": 18,
     "metadata": {},
     "output_type": "execute_result"
    },
    {
     "data": {
      "image/png": "[encoded data removed]",
      "text/plain": [
       "<Figure size 432x288 with 1 Axes>"
      ]
     },
     "metadata": {
      "needs_background": "light"
     },
     "output_type": "display_data"
    }
   ],
   "source": [
    "plt.title('Number of point')\n",
    "sns.barplot(x = df_count['point'], y = df_count['point_count'])"
   ]
  },
  {
   "cell_type": "code",
   "execution_count": 19,
   "metadata": {
    "scrolled": true
   },
   "outputs": [
    {
     "data": {
      "text/plain": [
       "count    27408.000000\n",
       "mean         8.131604\n",
       "std          2.961634\n",
       "min          1.000000\n",
       "25%          8.000000\n",
       "50%         10.000000\n",
       "75%         10.000000\n",
       "max         10.000000\n",
       "Name: point, dtype: float64"
      ]
     },
     "execution_count": 19,
     "metadata": {},
     "output_type": "execute_result"
    }
   ],
   "source": [
    "df['point'].describe()"
   ]
  },
  {
   "cell_type": "markdown",
   "metadata": {},
   "source": [
    "### 각 user가 point를 준 영화 갯수"
   ]
  },
  {
   "cell_type": "code",
   "execution_count": 20,
   "metadata": {},
   "outputs": [
    {
     "data": {
      "text/plain": [
       "count    16681.000000\n",
       "mean         1.643067\n",
       "std          1.834992\n",
       "min          1.000000\n",
       "25%          1.000000\n",
       "50%          1.000000\n",
       "75%          2.000000\n",
       "max         59.000000\n",
       "Name: nb_lines, dtype: float64"
      ]
     },
     "execution_count": 20,
     "metadata": {},
     "output_type": "execute_result"
    }
   ],
   "source": [
    "users_nb = df['user_id'].value_counts().reset_index()\n",
    "users_nb.columns = ['user_id', 'nb_lines']\n",
    "users_nb['nb_lines'].describe()"
   ]
  },
  {
   "cell_type": "code",
   "execution_count": 21,
   "metadata": {
    "scrolled": false
   },
   "outputs": [
    {
     "data": {
      "text/plain": [
       "<matplotlib.axes._subplots.AxesSubplot at 0x11c96e1d0>"
      ]
     },
     "execution_count": 21,
     "metadata": {},
     "output_type": "execute_result"
    },
    {
     "data": {
      "image/png": "[encoded data removed]",
      "text/plain": [
       "<Figure size 432x288 with 1 Axes>"
      ]
     },
     "metadata": {
      "needs_background": "light"
     },
     "output_type": "display_data"
    }
   ],
   "source": [
    "plt.title(\"Distribution of the number of ratings per users\")\n",
    "plt.ylabel('number of points')\n",
    "sns.lineplot(x=users_nb['user_id'], y=users_nb['nb_lines'])"
   ]
  },
  {
   "cell_type": "code",
   "execution_count": 22,
   "metadata": {},
   "outputs": [
    {
     "data": {
      "text/html": [
       "<div>\n",
       "<style scoped>\n",
       "    .dataframe tbody tr th:only-of-type {\n",
       "        vertical-align: middle;\n",
       "    }\n",
       "\n",
       "    .dataframe tbody tr th {\n",
       "        vertical-align: top;\n",
       "    }\n",
       "\n",
       "    .dataframe thead th {\n",
       "        text-align: right;\n",
       "    }\n",
       "</style>\n",
       "<table border=\"1\" class=\"dataframe\">\n",
       "  <thead>\n",
       "    <tr style=\"text-align: right;\">\n",
       "      <th></th>\n",
       "      <th>index</th>\n",
       "      <th>movie</th>\n",
       "      <th>name</th>\n",
       "      <th>point</th>\n",
       "      <th>user_id</th>\n",
       "      <th>movie_id</th>\n",
       "      <th>nb_lines</th>\n",
       "    </tr>\n",
       "  </thead>\n",
       "  <tbody>\n",
       "    <tr>\n",
       "      <th>27403</th>\n",
       "      <td>27399</td>\n",
       "      <td>드래곤 길들이기 3</td>\n",
       "      <td>sukl****</td>\n",
       "      <td>10</td>\n",
       "      <td>13760</td>\n",
       "      <td>517</td>\n",
       "      <td>1</td>\n",
       "    </tr>\n",
       "    <tr>\n",
       "      <th>27404</th>\n",
       "      <td>27400</td>\n",
       "      <td>타임 체인저</td>\n",
       "      <td>djfi****</td>\n",
       "      <td>9</td>\n",
       "      <td>3312</td>\n",
       "      <td>1961</td>\n",
       "      <td>1</td>\n",
       "    </tr>\n",
       "    <tr>\n",
       "      <th>27405</th>\n",
       "      <td>27401</td>\n",
       "      <td>뺑반</td>\n",
       "      <td>sh04****</td>\n",
       "      <td>10</td>\n",
       "      <td>12826</td>\n",
       "      <td>1019</td>\n",
       "      <td>1</td>\n",
       "    </tr>\n",
       "    <tr>\n",
       "      <th>27406</th>\n",
       "      <td>27402</td>\n",
       "      <td>극한직업</td>\n",
       "      <td>jute****</td>\n",
       "      <td>8</td>\n",
       "      <td>7476</td>\n",
       "      <td>246</td>\n",
       "      <td>2</td>\n",
       "    </tr>\n",
       "    <tr>\n",
       "      <th>27407</th>\n",
       "      <td>27407</td>\n",
       "      <td>미래의 미라이</td>\n",
       "      <td>jute****</td>\n",
       "      <td>6</td>\n",
       "      <td>7476</td>\n",
       "      <td>797</td>\n",
       "      <td>2</td>\n",
       "    </tr>\n",
       "  </tbody>\n",
       "</table>\n",
       "</div>"
      ],
      "text/plain": [
       "       index       movie      name  point  user_id  movie_id  nb_lines\n",
       "27403  27399  드래곤 길들이기 3  sukl****     10    13760       517         1\n",
       "27404  27400      타임 체인저  djfi****      9     3312      1961         1\n",
       "27405  27401          뺑반  sh04****     10    12826      1019         1\n",
       "27406  27402        극한직업  jute****      8     7476       246         2\n",
       "27407  27407     미래의 미라이  jute****      6     7476       797         2"
      ]
     },
     "execution_count": 22,
     "metadata": {},
     "output_type": "execute_result"
    }
   ],
   "source": [
    "df = pd.merge(df, users_nb, on='user_id')\n",
    "df.tail()"
   ]
  },
  {
   "cell_type": "markdown",
   "metadata": {},
   "source": [
    "### 영화 별 point 받은 횟수"
   ]
  },
  {
   "cell_type": "code",
   "execution_count": 23,
   "metadata": {},
   "outputs": [
    {
     "data": {
      "text/plain": [
       "count    2274.000000\n",
       "mean       12.052770\n",
       "std       149.164032\n",
       "min         1.000000\n",
       "25%         1.000000\n",
       "50%         1.000000\n",
       "75%         3.000000\n",
       "max      5716.000000\n",
       "Name: nb_movie_lines, dtype: float64"
      ]
     },
     "execution_count": 23,
     "metadata": {},
     "output_type": "execute_result"
    }
   ],
   "source": [
    "movies_nb = df['movie_id'].value_counts().reset_index()\n",
    "movies_nb.columns = ['movie_id', 'nb_movie_lines']\n",
    "movies_nb['nb_movie_lines'].describe()"
   ]
  },
  {
   "cell_type": "code",
   "execution_count": 24,
   "metadata": {
    "scrolled": true
   },
   "outputs": [
    {
     "data": {
      "text/plain": [
       "<matplotlib.axes._subplots.AxesSubplot at 0x11c513f28>"
      ]
     },
     "execution_count": 24,
     "metadata": {},
     "output_type": "execute_result"
    },
    {
     "data": {
      "image/png": "[encoded data removed]",
      "text/plain": [
       "<Figure size 432x288 with 1 Axes>"
      ]
     },
     "metadata": {
      "needs_background": "light"
     },
     "output_type": "display_data"
    }
   ],
   "source": [
    "plt.title(\"Distribution of the number of ratings per movies\")\n",
    "plt.ylabel('number of points')\n",
    "sns.lineplot(x=movies_nb['movie_id'], y=movies_nb['nb_movie_lines'])"
   ]
  },
  {
   "cell_type": "code",
   "execution_count": 25,
   "metadata": {},
   "outputs": [
    {
     "data": {
      "text/html": [
       "<div>\n",
       "<style scoped>\n",
       "    .dataframe tbody tr th:only-of-type {\n",
       "        vertical-align: middle;\n",
       "    }\n",
       "\n",
       "    .dataframe tbody tr th {\n",
       "        vertical-align: top;\n",
       "    }\n",
       "\n",
       "    .dataframe thead th {\n",
       "        text-align: right;\n",
       "    }\n",
       "</style>\n",
       "<table border=\"1\" class=\"dataframe\">\n",
       "  <thead>\n",
       "    <tr style=\"text-align: right;\">\n",
       "      <th></th>\n",
       "      <th>index</th>\n",
       "      <th>movie</th>\n",
       "      <th>name</th>\n",
       "      <th>point</th>\n",
       "      <th>user_id</th>\n",
       "      <th>movie_id</th>\n",
       "      <th>nb_lines</th>\n",
       "      <th>nb_movie_lines</th>\n",
       "    </tr>\n",
       "  </thead>\n",
       "  <tbody>\n",
       "    <tr>\n",
       "      <th>27403</th>\n",
       "      <td>26579</td>\n",
       "      <td>미친개들</td>\n",
       "      <td>2498****</td>\n",
       "      <td>5</td>\n",
       "      <td>301</td>\n",
       "      <td>826</td>\n",
       "      <td>1</td>\n",
       "      <td>1</td>\n",
       "    </tr>\n",
       "    <tr>\n",
       "      <th>27404</th>\n",
       "      <td>26882</td>\n",
       "      <td>베를린</td>\n",
       "      <td>qutt****</td>\n",
       "      <td>10</td>\n",
       "      <td>11823</td>\n",
       "      <td>908</td>\n",
       "      <td>1</td>\n",
       "      <td>1</td>\n",
       "    </tr>\n",
       "    <tr>\n",
       "      <th>27405</th>\n",
       "      <td>27194</td>\n",
       "      <td>극장판 포켓 몬스터 DP - 아르세우스 초극의 시공으로</td>\n",
       "      <td>ben2****</td>\n",
       "      <td>9</td>\n",
       "      <td>1724</td>\n",
       "      <td>240</td>\n",
       "      <td>1</td>\n",
       "      <td>1</td>\n",
       "    </tr>\n",
       "    <tr>\n",
       "      <th>27406</th>\n",
       "      <td>27299</td>\n",
       "      <td>에너미 라인스</td>\n",
       "      <td>dizi****</td>\n",
       "      <td>1</td>\n",
       "      <td>3298</td>\n",
       "      <td>1426</td>\n",
       "      <td>1</td>\n",
       "      <td>1</td>\n",
       "    </tr>\n",
       "    <tr>\n",
       "      <th>27407</th>\n",
       "      <td>27400</td>\n",
       "      <td>타임 체인저</td>\n",
       "      <td>djfi****</td>\n",
       "      <td>9</td>\n",
       "      <td>3312</td>\n",
       "      <td>1961</td>\n",
       "      <td>1</td>\n",
       "      <td>1</td>\n",
       "    </tr>\n",
       "  </tbody>\n",
       "</table>\n",
       "</div>"
      ],
      "text/plain": [
       "       index                           movie      name  point  user_id  \\\n",
       "27403  26579                            미친개들  2498****      5      301   \n",
       "27404  26882                             베를린  qutt****     10    11823   \n",
       "27405  27194  극장판 포켓 몬스터 DP - 아르세우스 초극의 시공으로  ben2****      9     1724   \n",
       "27406  27299                         에너미 라인스  dizi****      1     3298   \n",
       "27407  27400                          타임 체인저  djfi****      9     3312   \n",
       "\n",
       "       movie_id  nb_lines  nb_movie_lines  \n",
       "27403       826         1               1  \n",
       "27404       908         1               1  \n",
       "27405       240         1               1  \n",
       "27406      1426         1               1  \n",
       "27407      1961         1               1  "
      ]
     },
     "execution_count": 25,
     "metadata": {},
     "output_type": "execute_result"
    }
   ],
   "source": [
    "df = pd.merge(df, movies_nb, on='movie_id')\n",
    "df.tail()"
   ]
  },
  {
   "cell_type": "markdown",
   "metadata": {},
   "source": [
    "### 영화별 포인트 합산 점수"
   ]
  },
  {
   "cell_type": "code",
   "execution_count": 26,
   "metadata": {
    "scrolled": true
   },
   "outputs": [
    {
     "data": {
      "text/html": [
       "<div>\n",
       "<style scoped>\n",
       "    .dataframe tbody tr th:only-of-type {\n",
       "        vertical-align: middle;\n",
       "    }\n",
       "\n",
       "    .dataframe tbody tr th {\n",
       "        vertical-align: top;\n",
       "    }\n",
       "\n",
       "    .dataframe thead th {\n",
       "        text-align: right;\n",
       "    }\n",
       "</style>\n",
       "<table border=\"1\" class=\"dataframe\">\n",
       "  <thead>\n",
       "    <tr style=\"text-align: right;\">\n",
       "      <th></th>\n",
       "      <th>movie</th>\n",
       "      <th>point</th>\n",
       "    </tr>\n",
       "  </thead>\n",
       "  <tbody>\n",
       "    <tr>\n",
       "      <th>0</th>\n",
       "      <td>극한직업</td>\n",
       "      <td>51324</td>\n",
       "    </tr>\n",
       "    <tr>\n",
       "      <th>1</th>\n",
       "      <td>뺑반</td>\n",
       "      <td>20325</td>\n",
       "    </tr>\n",
       "    <tr>\n",
       "      <th>2</th>\n",
       "      <td>말모이</td>\n",
       "      <td>15969</td>\n",
       "    </tr>\n",
       "    <tr>\n",
       "      <th>3</th>\n",
       "      <td>글래스</td>\n",
       "      <td>13682</td>\n",
       "    </tr>\n",
       "    <tr>\n",
       "      <th>4</th>\n",
       "      <td>내안의 그놈</td>\n",
       "      <td>10053</td>\n",
       "    </tr>\n",
       "    <tr>\n",
       "      <th>5</th>\n",
       "      <td>드래곤 길들이기 3</td>\n",
       "      <td>6685</td>\n",
       "    </tr>\n",
       "  </tbody>\n",
       "</table>\n",
       "</div>"
      ],
      "text/plain": [
       "        movie  point\n",
       "0        극한직업  51324\n",
       "1          뺑반  20325\n",
       "2         말모이  15969\n",
       "3         글래스  13682\n",
       "4      내안의 그놈  10053\n",
       "5  드래곤 길들이기 3   6685"
      ]
     },
     "execution_count": 26,
     "metadata": {},
     "output_type": "execute_result"
    }
   ],
   "source": [
    "movie_point = df[['movie','point']]\n",
    "movie_point = movie_point.groupby(['movie']).sum()\n",
    "movie_point = movie_point.sort_values(by=['point'], ascending=False).reset_index()\n",
    "movie_point.head(6)"
   ]
  },
  {
   "cell_type": "markdown",
   "metadata": {},
   "source": [
    "### point 받은 횟수가 500개 이상인 영화의 포인트 평균 점수"
   ]
  },
  {
   "cell_type": "code",
   "execution_count": 28,
   "metadata": {
    "scrolled": true
   },
   "outputs": [
    {
     "data": {
      "text/html": [
       "<div>\n",
       "<style scoped>\n",
       "    .dataframe tbody tr th:only-of-type {\n",
       "        vertical-align: middle;\n",
       "    }\n",
       "\n",
       "    .dataframe tbody tr th {\n",
       "        vertical-align: top;\n",
       "    }\n",
       "\n",
       "    .dataframe thead th {\n",
       "        text-align: right;\n",
       "    }\n",
       "</style>\n",
       "<table border=\"1\" class=\"dataframe\">\n",
       "  <thead>\n",
       "    <tr style=\"text-align: right;\">\n",
       "      <th></th>\n",
       "      <th>index</th>\n",
       "      <th>movie</th>\n",
       "      <th>name</th>\n",
       "      <th>point</th>\n",
       "      <th>user_id</th>\n",
       "      <th>movie_id</th>\n",
       "      <th>nb_lines</th>\n",
       "      <th>nb_movie_lines</th>\n",
       "      <th>avg_point</th>\n",
       "    </tr>\n",
       "  </thead>\n",
       "  <tbody>\n",
       "    <tr>\n",
       "      <th>27403</th>\n",
       "      <td>26579</td>\n",
       "      <td>미친개들</td>\n",
       "      <td>2498****</td>\n",
       "      <td>5</td>\n",
       "      <td>301</td>\n",
       "      <td>826</td>\n",
       "      <td>1</td>\n",
       "      <td>1</td>\n",
       "      <td>5.0</td>\n",
       "    </tr>\n",
       "    <tr>\n",
       "      <th>27404</th>\n",
       "      <td>26882</td>\n",
       "      <td>베를린</td>\n",
       "      <td>qutt****</td>\n",
       "      <td>10</td>\n",
       "      <td>11823</td>\n",
       "      <td>908</td>\n",
       "      <td>1</td>\n",
       "      <td>1</td>\n",
       "      <td>10.0</td>\n",
       "    </tr>\n",
       "    <tr>\n",
       "      <th>27405</th>\n",
       "      <td>27194</td>\n",
       "      <td>극장판 포켓 몬스터 DP - 아르세우스 초극의 시공으로</td>\n",
       "      <td>ben2****</td>\n",
       "      <td>9</td>\n",
       "      <td>1724</td>\n",
       "      <td>240</td>\n",
       "      <td>1</td>\n",
       "      <td>1</td>\n",
       "      <td>9.0</td>\n",
       "    </tr>\n",
       "    <tr>\n",
       "      <th>27406</th>\n",
       "      <td>27299</td>\n",
       "      <td>에너미 라인스</td>\n",
       "      <td>dizi****</td>\n",
       "      <td>1</td>\n",
       "      <td>3298</td>\n",
       "      <td>1426</td>\n",
       "      <td>1</td>\n",
       "      <td>1</td>\n",
       "      <td>1.0</td>\n",
       "    </tr>\n",
       "    <tr>\n",
       "      <th>27407</th>\n",
       "      <td>27400</td>\n",
       "      <td>타임 체인저</td>\n",
       "      <td>djfi****</td>\n",
       "      <td>9</td>\n",
       "      <td>3312</td>\n",
       "      <td>1961</td>\n",
       "      <td>1</td>\n",
       "      <td>1</td>\n",
       "      <td>9.0</td>\n",
       "    </tr>\n",
       "  </tbody>\n",
       "</table>\n",
       "</div>"
      ],
      "text/plain": [
       "       index                           movie      name  point  user_id  \\\n",
       "27403  26579                            미친개들  2498****      5      301   \n",
       "27404  26882                             베를린  qutt****     10    11823   \n",
       "27405  27194  극장판 포켓 몬스터 DP - 아르세우스 초극의 시공으로  ben2****      9     1724   \n",
       "27406  27299                         에너미 라인스  dizi****      1     3298   \n",
       "27407  27400                          타임 체인저  djfi****      9     3312   \n",
       "\n",
       "       movie_id  nb_lines  nb_movie_lines  avg_point  \n",
       "27403       826         1               1        5.0  \n",
       "27404       908         1               1       10.0  \n",
       "27405       240         1               1        9.0  \n",
       "27406      1426         1               1        1.0  \n",
       "27407      1961         1               1        9.0  "
      ]
     },
     "execution_count": 28,
     "metadata": {},
     "output_type": "execute_result"
    }
   ],
   "source": [
    "avg_point = df.groupby(['movie_id']).mean()['point']\n",
    "avg_point = pd.DataFrame(avg_point)\n",
    "avg_point['movie_id'] = avg_point.index\n",
    "avg_point.columns = ['avg_point','movie_id']\n",
    "df = pd.merge(df, avg_point, on='movie_id')\n",
    "df.tail()"
   ]
  },
  {
   "cell_type": "code",
   "execution_count": 29,
   "metadata": {
    "scrolled": true
   },
   "outputs": [
    {
     "data": {
      "text/html": [
       "<div>\n",
       "<style scoped>\n",
       "    .dataframe tbody tr th:only-of-type {\n",
       "        vertical-align: middle;\n",
       "    }\n",
       "\n",
       "    .dataframe tbody tr th {\n",
       "        vertical-align: top;\n",
       "    }\n",
       "\n",
       "    .dataframe thead th {\n",
       "        text-align: right;\n",
       "    }\n",
       "</style>\n",
       "<table border=\"1\" class=\"dataframe\">\n",
       "  <thead>\n",
       "    <tr style=\"text-align: right;\">\n",
       "      <th></th>\n",
       "      <th>avg_point</th>\n",
       "    </tr>\n",
       "    <tr>\n",
       "      <th>movie</th>\n",
       "      <th></th>\n",
       "    </tr>\n",
       "  </thead>\n",
       "  <tbody>\n",
       "    <tr>\n",
       "      <th>드래곤 길들이기 3</th>\n",
       "      <td>9.482270</td>\n",
       "    </tr>\n",
       "    <tr>\n",
       "      <th>언더독</th>\n",
       "      <td>9.393701</td>\n",
       "    </tr>\n",
       "    <tr>\n",
       "      <th>극한직업</th>\n",
       "      <td>8.979006</td>\n",
       "    </tr>\n",
       "    <tr>\n",
       "      <th>말모이</th>\n",
       "      <td>8.976391</td>\n",
       "    </tr>\n",
       "    <tr>\n",
       "      <th>아쿠아맨</th>\n",
       "      <td>8.327306</td>\n",
       "    </tr>\n",
       "    <tr>\n",
       "      <th>내안의 그놈</th>\n",
       "      <td>8.087691</td>\n",
       "    </tr>\n",
       "    <tr>\n",
       "      <th>글래스</th>\n",
       "      <td>8.010539</td>\n",
       "    </tr>\n",
       "    <tr>\n",
       "      <th>뺑반</th>\n",
       "      <td>7.292788</td>\n",
       "    </tr>\n",
       "  </tbody>\n",
       "</table>\n",
       "</div>"
      ],
      "text/plain": [
       "            avg_point\n",
       "movie                \n",
       "드래곤 길들이기 3   9.482270\n",
       "언더독          9.393701\n",
       "극한직업         8.979006\n",
       "말모이          8.976391\n",
       "아쿠아맨         8.327306\n",
       "내안의 그놈       8.087691\n",
       "글래스          8.010539\n",
       "뺑반           7.292788"
      ]
     },
     "execution_count": 29,
     "metadata": {},
     "output_type": "execute_result"
    }
   ],
   "source": [
    "df[df['nb_movie_lines'] >= 500][['movie','avg_point']].groupby('movie').mean().sort_values(by=['avg_point'],ascending=False)"
   ]
  },
  {
   "cell_type": "markdown",
   "metadata": {},
   "source": [
    "# 3. <big>modeling</big>"
   ]
  },
  {
   "cell_type": "markdown",
   "metadata": {},
   "source": [
    "## 3.1 test / train data split"
   ]
  },
  {
   "cell_type": "code",
   "execution_count": 30,
   "metadata": {},
   "outputs": [
    {
     "name": "stdout",
     "output_type": "stream",
     "text": [
      "users_shape = (16681,) movies_shape = (2274,)\n"
     ]
    }
   ],
   "source": [
    "users = df.user_id.unique()\n",
    "movies = df.movie_id.unique()\n",
    "print(\"users_shape =\",users.shape,\"movies_shape =\",movies.shape)  "
   ]
  },
  {
   "cell_type": "code",
   "execution_count": 33,
   "metadata": {},
   "outputs": [],
   "source": [
    "train, test = train_test_split(df, test_size=0.2)"
   ]
  },
  {
   "cell_type": "markdown",
   "metadata": {},
   "source": [
    "### train data 갯수 : `21926`"
   ]
  },
  {
   "cell_type": "code",
   "execution_count": 34,
   "metadata": {
    "scrolled": false
   },
   "outputs": [
    {
     "name": "stdout",
     "output_type": "stream",
     "text": [
      "21926\n"
     ]
    },
    {
     "data": {
      "text/html": [
       "<div>\n",
       "<style scoped>\n",
       "    .dataframe tbody tr th:only-of-type {\n",
       "        vertical-align: middle;\n",
       "    }\n",
       "\n",
       "    .dataframe tbody tr th {\n",
       "        vertical-align: top;\n",
       "    }\n",
       "\n",
       "    .dataframe thead th {\n",
       "        text-align: right;\n",
       "    }\n",
       "</style>\n",
       "<table border=\"1\" class=\"dataframe\">\n",
       "  <thead>\n",
       "    <tr style=\"text-align: right;\">\n",
       "      <th></th>\n",
       "      <th>index</th>\n",
       "      <th>movie</th>\n",
       "      <th>name</th>\n",
       "      <th>point</th>\n",
       "      <th>user_id</th>\n",
       "      <th>movie_id</th>\n",
       "      <th>nb_lines</th>\n",
       "      <th>nb_movie_lines</th>\n",
       "      <th>avg_point</th>\n",
       "    </tr>\n",
       "  </thead>\n",
       "  <tbody>\n",
       "    <tr>\n",
       "      <th>15363</th>\n",
       "      <td>5577</td>\n",
       "      <td>말모이</td>\n",
       "      <td>real****</td>\n",
       "      <td>10</td>\n",
       "      <td>11944</td>\n",
       "      <td>696</td>\n",
       "      <td>16</td>\n",
       "      <td>1779</td>\n",
       "      <td>8.976391</td>\n",
       "    </tr>\n",
       "    <tr>\n",
       "      <th>19637</th>\n",
       "      <td>1254</td>\n",
       "      <td>마약왕</td>\n",
       "      <td>slrh****</td>\n",
       "      <td>1</td>\n",
       "      <td>13269</td>\n",
       "      <td>673</td>\n",
       "      <td>2</td>\n",
       "      <td>222</td>\n",
       "      <td>5.261261</td>\n",
       "    </tr>\n",
       "    <tr>\n",
       "      <th>20161</th>\n",
       "      <td>1211</td>\n",
       "      <td>미래의 미라이</td>\n",
       "      <td>fncp****</td>\n",
       "      <td>10</td>\n",
       "      <td>4562</td>\n",
       "      <td>797</td>\n",
       "      <td>2</td>\n",
       "      <td>377</td>\n",
       "      <td>5.904509</td>\n",
       "    </tr>\n",
       "    <tr>\n",
       "      <th>22744</th>\n",
       "      <td>271</td>\n",
       "      <td>아내가 결혼했다</td>\n",
       "      <td>tjwk****</td>\n",
       "      <td>10</td>\n",
       "      <td>14274</td>\n",
       "      <td>1278</td>\n",
       "      <td>2</td>\n",
       "      <td>1</td>\n",
       "      <td>10.000000</td>\n",
       "    </tr>\n",
       "    <tr>\n",
       "      <th>3553</th>\n",
       "      <td>13696</td>\n",
       "      <td>내안의 그놈</td>\n",
       "      <td>gjwg****</td>\n",
       "      <td>10</td>\n",
       "      <td>4944</td>\n",
       "      <td>330</td>\n",
       "      <td>1</td>\n",
       "      <td>1243</td>\n",
       "      <td>8.087691</td>\n",
       "    </tr>\n",
       "  </tbody>\n",
       "</table>\n",
       "</div>"
      ],
      "text/plain": [
       "       index     movie      name  point  user_id  movie_id  nb_lines  \\\n",
       "15363   5577       말모이  real****     10    11944       696        16   \n",
       "19637   1254       마약왕  slrh****      1    13269       673         2   \n",
       "20161   1211   미래의 미라이  fncp****     10     4562       797         2   \n",
       "22744    271  아내가 결혼했다  tjwk****     10    14274      1278         2   \n",
       "3553   13696    내안의 그놈  gjwg****     10     4944       330         1   \n",
       "\n",
       "       nb_movie_lines  avg_point  \n",
       "15363            1779   8.976391  \n",
       "19637             222   5.261261  \n",
       "20161             377   5.904509  \n",
       "22744               1  10.000000  \n",
       "3553             1243   8.087691  "
      ]
     },
     "execution_count": 34,
     "metadata": {},
     "output_type": "execute_result"
    }
   ],
   "source": [
    "print(len(train))\n",
    "train.tail()"
   ]
  },
  {
   "cell_type": "markdown",
   "metadata": {},
   "source": [
    "### test data 갯수 : `5482`"
   ]
  },
  {
   "cell_type": "code",
   "execution_count": 36,
   "metadata": {
    "scrolled": true
   },
   "outputs": [
    {
     "name": "stdout",
     "output_type": "stream",
     "text": [
      "5482\n"
     ]
    },
    {
     "data": {
      "text/html": [
       "<div>\n",
       "<style scoped>\n",
       "    .dataframe tbody tr th:only-of-type {\n",
       "        vertical-align: middle;\n",
       "    }\n",
       "\n",
       "    .dataframe tbody tr th {\n",
       "        vertical-align: top;\n",
       "    }\n",
       "\n",
       "    .dataframe thead th {\n",
       "        text-align: right;\n",
       "    }\n",
       "</style>\n",
       "<table border=\"1\" class=\"dataframe\">\n",
       "  <thead>\n",
       "    <tr style=\"text-align: right;\">\n",
       "      <th></th>\n",
       "      <th>index</th>\n",
       "      <th>movie</th>\n",
       "      <th>name</th>\n",
       "      <th>point</th>\n",
       "      <th>user_id</th>\n",
       "      <th>movie_id</th>\n",
       "      <th>nb_lines</th>\n",
       "      <th>nb_movie_lines</th>\n",
       "      <th>avg_point</th>\n",
       "    </tr>\n",
       "  </thead>\n",
       "  <tbody>\n",
       "    <tr>\n",
       "      <th>25262</th>\n",
       "      <td>25352</td>\n",
       "      <td>디스트릭트 9</td>\n",
       "      <td>ll07****</td>\n",
       "      <td>10</td>\n",
       "      <td>9136</td>\n",
       "      <td>530</td>\n",
       "      <td>1</td>\n",
       "      <td>6</td>\n",
       "      <td>9.833333</td>\n",
       "    </tr>\n",
       "    <tr>\n",
       "      <th>24725</th>\n",
       "      <td>7884</td>\n",
       "      <td>크레이지 리치 아시안</td>\n",
       "      <td>inha****</td>\n",
       "      <td>1</td>\n",
       "      <td>6434</td>\n",
       "      <td>1922</td>\n",
       "      <td>3</td>\n",
       "      <td>9</td>\n",
       "      <td>5.111111</td>\n",
       "    </tr>\n",
       "    <tr>\n",
       "      <th>9725</th>\n",
       "      <td>26540</td>\n",
       "      <td>극한직업</td>\n",
       "      <td>pwh1****</td>\n",
       "      <td>10</td>\n",
       "      <td>11536</td>\n",
       "      <td>246</td>\n",
       "      <td>1</td>\n",
       "      <td>5716</td>\n",
       "      <td>8.979006</td>\n",
       "    </tr>\n",
       "    <tr>\n",
       "      <th>3675</th>\n",
       "      <td>18114</td>\n",
       "      <td>내안의 그놈</td>\n",
       "      <td>ljw2****</td>\n",
       "      <td>8</td>\n",
       "      <td>9092</td>\n",
       "      <td>330</td>\n",
       "      <td>1</td>\n",
       "      <td>1243</td>\n",
       "      <td>8.087691</td>\n",
       "    </tr>\n",
       "    <tr>\n",
       "      <th>19165</th>\n",
       "      <td>7839</td>\n",
       "      <td>언니</td>\n",
       "      <td>takg****</td>\n",
       "      <td>1</td>\n",
       "      <td>13992</td>\n",
       "      <td>1406</td>\n",
       "      <td>1</td>\n",
       "      <td>482</td>\n",
       "      <td>4.728216</td>\n",
       "    </tr>\n",
       "  </tbody>\n",
       "</table>\n",
       "</div>"
      ],
      "text/plain": [
       "       index        movie      name  point  user_id  movie_id  nb_lines  \\\n",
       "25262  25352      디스트릭트 9  ll07****     10     9136       530         1   \n",
       "24725   7884  크레이지 리치 아시안  inha****      1     6434      1922         3   \n",
       "9725   26540         극한직업  pwh1****     10    11536       246         1   \n",
       "3675   18114       내안의 그놈  ljw2****      8     9092       330         1   \n",
       "19165   7839           언니  takg****      1    13992      1406         1   \n",
       "\n",
       "       nb_movie_lines  avg_point  \n",
       "25262               6   9.833333  \n",
       "24725               9   5.111111  \n",
       "9725             5716   8.979006  \n",
       "3675             1243   8.087691  \n",
       "19165             482   4.728216  "
      ]
     },
     "execution_count": 36,
     "metadata": {},
     "output_type": "execute_result"
    }
   ],
   "source": [
    "print(len(test))\n",
    "test.tail()"
   ]
  },
  {
   "cell_type": "markdown",
   "metadata": {},
   "source": [
    "## 3.2 Model_Factorization(Dot)"
   ]
  },
  {
   "cell_type": "code",
   "execution_count": 76,
   "metadata": {},
   "outputs": [],
   "source": [
    "class ModelFacto:\n",
    "    \n",
    "    def __init__(self, embedding_size, optimizer='adam', loss ='mae'):\n",
    "        self.embedding_size = embedding_size\n",
    "        self.optimizer = optimizer\n",
    "        self.loss = loss\n",
    "    \n",
    "    def model_layer(self):\n",
    "        # input_layer\n",
    "        user_id_input = Input(shape=[1], name='user')\n",
    "        item_id_input = Input(shape=[1], name='item')\n",
    "        \n",
    "        # embedding_layer\n",
    "        user_embedding = Embedding(output_dim=self.embedding_size, input_dim=users.shape[0],\n",
    "                           input_length=1, name='user_embedding')(user_id_input)\n",
    "        item_embedding = Embedding(output_dim=self.embedding_size, input_dim=movies.shape[0],\n",
    "                           input_length=1, name='item_embedding')(item_id_input)\n",
    "        \n",
    "        # flatten layer\n",
    "        user_vecs = Reshape([embedding_size])(user_embedding)\n",
    "        item_vecs = Reshape([embedding_size])(item_embedding)\n",
    "        \n",
    "        # Output layer\n",
    "        y = Dot(1, normalize=False)([user_vecs, item_vecs])\n",
    "        \n",
    "        model = Model(inputs=[user_id_input, item_id_input], outputs=y)\n",
    "        \n",
    "        model.compile(loss=self.loss,\n",
    "                      optimizer=self.optimizer)\n",
    "        return model\n",
    "    \n",
    "        \n",
    "        \n",
    "    def summary(self):\n",
    "        model = self.model_layer()\n",
    "        model.summary()\n",
    "        \n",
    "    def svg(self):\n",
    "        model = self.model_layer()\n",
    "        return SVG(model_to_dot(model, show_shapes=True).create(prog='dot', format='svg'))\n",
    "        \n",
    "    def fit(self):\n",
    "        model = self.model_layer()\n",
    "        mainpath = '/Users/james/Documents/pyenv/tensorflow/personal_project'\n",
    "        save_path = mainpath + \"/models\"\n",
    "        mytime = time.strftime(\"%Y_%m_%d_%H_%M\")\n",
    "        modname = 'matrix_facto_{}_'.format(self.embedding_size) + mytime \n",
    "        thename = save_path + '/' + modname + '.h5'\n",
    "        mcheck = ModelCheckpoint(thename  , monitor='val_loss', save_best_only=True)\n",
    "        \n",
    "        history = model.fit([train['user_id'], train['movie_id']]\n",
    "                           , train['point']\n",
    "                           , batch_size=50, epochs=10\n",
    "                           , validation_split=0.1\n",
    "                           , callbacks=[mcheck]\n",
    "                           , shuffle=True)\n",
    "        \n",
    "        with open(mainpath + '/histories/' + modname + '.pkl', 'wb') as file_pi:\n",
    "            pickle.dump(history.history, file_pi)"
   ]
  },
  {
   "cell_type": "code",
   "execution_count": 80,
   "metadata": {},
   "outputs": [],
   "source": [
    "def loss_graph(hisotry_ls):\n",
    "    mainpath = '/Users/james/Documents/pyenv/tensorflow/personal_project'\n",
    "    for val in hisotry_ls:\n",
    "        with open(mainpath + '/histories/' + val, 'rb') as file_pi:\n",
    "            the_pickle = pickle.load(file_pi)\n",
    "            plt.plot(the_pickle['loss'], label='loss_'+val, linestyle='--')\n",
    "            plt.plot(the_pickle['val_loss'], label='val_loss'+val)\n",
    "    plt.legend()\n",
    "    plt.ylim(0,10)\n",
    "    \n",
    "    return pd.DataFrame(the_pickle, columns=['loss', 'val_loss']).head(10).transpose()\n",
    "    \n",
    "                "
   ]
  },
  {
   "cell_type": "markdown",
   "metadata": {},
   "source": [
    "### model_facto_10 \n",
    "- embedding_size : 10\n",
    "- train MAE : 3.9\n",
    "- validation loss : 7.18"
   ]
  },
  {
   "cell_type": "markdown",
   "metadata": {},
   "source": [
    "### `loss score`"
   ]
  },
  {
   "cell_type": "code",
   "execution_count": 78,
   "metadata": {
    "scrolled": false
   },
   "outputs": [
    {
     "name": "stdout",
     "output_type": "stream",
     "text": [
      "Train on 19733 samples, validate on 2193 samples\n",
      "Epoch 1/10\n",
      "19733/19733 [==============================] - 3s 138us/step - loss: 8.1357 - val_loss: 8.1400\n",
      "Epoch 2/10\n",
      "19733/19733 [==============================] - 2s 112us/step - loss: 8.1181 - val_loss: 8.1276\n",
      "Epoch 3/10\n",
      "19733/19733 [==============================] - 2s 110us/step - loss: 7.9967 - val_loss: 8.0793\n",
      "Epoch 4/10\n",
      "19733/19733 [==============================] - 2s 111us/step - loss: 7.6960 - val_loss: 7.9905\n",
      "Epoch 5/10\n",
      "19733/19733 [==============================] - 2s 116us/step - loss: 7.2475 - val_loss: 7.8739\n",
      "Epoch 6/10\n",
      "19733/19733 [==============================] - 2s 116us/step - loss: 6.6878 - val_loss: 7.7396\n",
      "Epoch 7/10\n",
      "19733/19733 [==============================] - 2s 116us/step - loss: 6.0387 - val_loss: 7.5942\n",
      "Epoch 8/10\n",
      "19733/19733 [==============================] - 2s 114us/step - loss: 5.3173 - val_loss: 7.4406\n",
      "Epoch 9/10\n",
      "19733/19733 [==============================] - 2s 108us/step - loss: 4.5759 - val_loss: 7.2994\n",
      "Epoch 10/10\n",
      "19733/19733 [==============================] - 2s 112us/step - loss: 3.9008 - val_loss: 7.1830\n"
     ]
    }
   ],
   "source": [
    "model_facto_10 = ModelFacto(10)\n",
    "model_facto_10.fit()"
   ]
  },
  {
   "cell_type": "markdown",
   "metadata": {},
   "source": [
    "### `model summary`"
   ]
  },
  {
   "cell_type": "code",
   "execution_count": 82,
   "metadata": {
    "scrolled": false
   },
   "outputs": [
    {
     "name": "stdout",
     "output_type": "stream",
     "text": [
      "__________________________________________________________________________________________________\n",
      "Layer (type)                    Output Shape         Param #     Connected to                     \n",
      "==================================================================================================\n",
      "user (InputLayer)               (None, 1)            0                                            \n",
      "__________________________________________________________________________________________________\n",
      "item (InputLayer)               (None, 1)            0                                            \n",
      "__________________________________________________________________________________________________\n",
      "user_embedding (Embedding)      (None, 1, 10)        166810      user[0][0]                       \n",
      "__________________________________________________________________________________________________\n",
      "item_embedding (Embedding)      (None, 1, 10)        22740       item[0][0]                       \n",
      "__________________________________________________________________________________________________\n",
      "reshape_25 (Reshape)            (None, 10)           0           user_embedding[0][0]             \n",
      "__________________________________________________________________________________________________\n",
      "reshape_26 (Reshape)            (None, 10)           0           item_embedding[0][0]             \n",
      "__________________________________________________________________________________________________\n",
      "dot_13 (Dot)                    (None, 1)            0           reshape_25[0][0]                 \n",
      "                                                                 reshape_26[0][0]                 \n",
      "==================================================================================================\n",
      "Total params: 189,550\n",
      "Trainable params: 189,550\n",
      "Non-trainable params: 0\n",
      "__________________________________________________________________________________________________\n"
     ]
    }
   ],
   "source": [
    "model_facto_10.summary()"
   ]
  },
  {
   "cell_type": "markdown",
   "metadata": {},
   "source": [
    "### `Error Graph`"
   ]
  },
  {
   "cell_type": "code",
   "execution_count": 81,
   "metadata": {
    "scrolled": true
   },
   "outputs": [
    {
     "data": {
      "text/html": [
       "<div>\n",
       "<style scoped>\n",
       "    .dataframe tbody tr th:only-of-type {\n",
       "        vertical-align: middle;\n",
       "    }\n",
       "\n",
       "    .dataframe tbody tr th {\n",
       "        vertical-align: top;\n",
       "    }\n",
       "\n",
       "    .dataframe thead th {\n",
       "        text-align: right;\n",
       "    }\n",
       "</style>\n",
       "<table border=\"1\" class=\"dataframe\">\n",
       "  <thead>\n",
       "    <tr style=\"text-align: right;\">\n",
       "      <th></th>\n",
       "      <th>0</th>\n",
       "      <th>1</th>\n",
       "      <th>2</th>\n",
       "      <th>3</th>\n",
       "      <th>4</th>\n",
       "      <th>5</th>\n",
       "      <th>6</th>\n",
       "      <th>7</th>\n",
       "      <th>8</th>\n",
       "      <th>9</th>\n",
       "    </tr>\n",
       "  </thead>\n",
       "  <tbody>\n",
       "    <tr>\n",
       "      <th>loss</th>\n",
       "      <td>8.135727</td>\n",
       "      <td>8.118095</td>\n",
       "      <td>7.996657</td>\n",
       "      <td>7.695979</td>\n",
       "      <td>7.247486</td>\n",
       "      <td>6.687834</td>\n",
       "      <td>6.038724</td>\n",
       "      <td>5.317258</td>\n",
       "      <td>4.575901</td>\n",
       "      <td>3.900819</td>\n",
       "    </tr>\n",
       "    <tr>\n",
       "      <th>val_loss</th>\n",
       "      <td>8.139970</td>\n",
       "      <td>8.127555</td>\n",
       "      <td>8.079277</td>\n",
       "      <td>7.990482</td>\n",
       "      <td>7.873907</td>\n",
       "      <td>7.739571</td>\n",
       "      <td>7.594226</td>\n",
       "      <td>7.440572</td>\n",
       "      <td>7.299391</td>\n",
       "      <td>7.182985</td>\n",
       "    </tr>\n",
       "  </tbody>\n",
       "</table>\n",
       "</div>"
      ],
      "text/plain": [
       "                 0         1         2         3         4         5  \\\n",
       "loss      8.135727  8.118095  7.996657  7.695979  7.247486  6.687834   \n",
       "val_loss  8.139970  8.127555  8.079277  7.990482  7.873907  7.739571   \n",
       "\n",
       "                 6         7         8         9  \n",
       "loss      6.038724  5.317258  4.575901  3.900819  \n",
       "val_loss  7.594226  7.440572  7.299391  7.182985  "
      ]
     },
     "execution_count": 81,
     "metadata": {},
     "output_type": "execute_result"
    },
    {
     "data": {
      "image/png": "[encoded data removed]",
      "text/plain": [
       "<Figure size 432x288 with 1 Axes>"
      ]
     },
     "metadata": {
      "needs_background": "light"
     },
     "output_type": "display_data"
    }
   ],
   "source": [
    "history_ls = ['matrix_facto_10_2019_02_01_17_10.pkl']\n",
    "loss_graph(history_ls)"
   ]
  },
  {
   "cell_type": "code",
   "execution_count": null,
   "metadata": {},
   "outputs": [],
   "source": []
  },
  {
   "cell_type": "markdown",
   "metadata": {},
   "source": [
    "## 3.3 Dense_Model(Concat)"
   ]
  },
  {
   "cell_type": "code",
   "execution_count": 86,
   "metadata": {},
   "outputs": [],
   "source": [
    "class ModelDense:\n",
    "    \n",
    "    def __init__(self, embedding_size, optimizer='adam', loss ='mae'):\n",
    "        self.embedding_size = embedding_size\n",
    "        self.optimizer = optimizer\n",
    "        self.loss = loss\n",
    "    \n",
    "    def model_layer(self):\n",
    "        # input_layer\n",
    "        user_id_input = Input(shape=[1], name='user')\n",
    "        item_id_input = Input(shape=[1], name='item')\n",
    "        \n",
    "        # embedding_layer\n",
    "        user_embedding = Embedding(output_dim=self.embedding_size, input_dim=users.shape[0],\n",
    "                           input_length=1, name='user_embedding')(user_id_input)\n",
    "        item_embedding = Embedding(output_dim=self.embedding_size, input_dim=movies.shape[0],\n",
    "                           input_length=1, name='item_embedding')(item_id_input)\n",
    "        \n",
    "        # flatten layer\n",
    "        user_vecs = Reshape([embedding_size])(user_embedding)\n",
    "        item_vecs = Reshape([embedding_size])(item_embedding)\n",
    "        \n",
    "        # Concate two layer(user_vecs, item_vecs)\n",
    "        input_vecs = Concatenate()([user_vecs, item_vecs])\n",
    "        \n",
    "        # Dense layer\n",
    "        x = Dense(128, activation='relu')(input_vecs)\n",
    "        # x = Dense(128, activation='relu')(x)\n",
    "        \n",
    "        # Output layer\n",
    "        y = Dense(1)(x)\n",
    "        \n",
    "        model = Model(inputs=[user_id_input, item_id_input], outputs=y)\n",
    "        \n",
    "        model.compile(loss=self.loss,\n",
    "                      optimizer=self.optimizer)\n",
    "        return model\n",
    "    \n",
    "      \n",
    "    \n",
    "        \n",
    "        \n",
    "    def summary(self):\n",
    "        model = self.model_layer()\n",
    "        model.summary()\n",
    "        \n",
    "    def svg(self):\n",
    "        model = self.model_layer()\n",
    "        return SVG(model_to_dot(model, show_shapes=True).create(prog='dot', format='svg'))\n",
    "        \n",
    "    def fit(self):\n",
    "        model = self.model_layer()\n",
    "        mainpath = '/Users/james/Documents/pyenv/tensorflow/personal_project'\n",
    "        save_path = mainpath + \"/models\"\n",
    "        mytime = time.strftime(\"%Y_%m_%d_%H_%M\")\n",
    "        modname = 'dense_{}_'.format(self.embedding_size) + mytime \n",
    "        thename = save_path + '/' + modname + '.h5'\n",
    "        mcheck = ModelCheckpoint(thename  , monitor='val_loss', save_best_only=True)\n",
    "        \n",
    "        history = model.fit([train['user_id'], train['movie_id']]\n",
    "                           , train['point']\n",
    "                           , batch_size=50, epochs=10\n",
    "                           , validation_split=0.1\n",
    "                           , callbacks=[mcheck]\n",
    "                           , shuffle=True)\n",
    "        \n",
    "        with open(mainpath + '/histories/' + modname + '.pkl', 'wb') as file_pi:\n",
    "            pickle.dump(history.history, file_pi)"
   ]
  },
  {
   "cell_type": "markdown",
   "metadata": {},
   "source": [
    "### model_dense_10 \n",
    "- embedding_size : 10\n",
    "- dense : 128\n",
    "- train MAE : 3.9\n",
    "- validation loss : 7.18"
   ]
  },
  {
   "cell_type": "markdown",
   "metadata": {},
   "source": [
    "### `loss score`"
   ]
  },
  {
   "cell_type": "code",
   "execution_count": 88,
   "metadata": {
    "scrolled": false
   },
   "outputs": [
    {
     "name": "stdout",
     "output_type": "stream",
     "text": [
      "Train on 19733 samples, validate on 2193 samples\n",
      "Epoch 1/10\n",
      "19733/19733 [==============================] - 3s 155us/step - loss: 3.5043 - val_loss: 1.9468\n",
      "Epoch 2/10\n",
      "19733/19733 [==============================] - 2s 113us/step - loss: 1.7692 - val_loss: 1.8368\n",
      "Epoch 3/10\n",
      "19733/19733 [==============================] - 2s 113us/step - loss: 1.3801 - val_loss: 1.8554\n",
      "Epoch 4/10\n",
      "19733/19733 [==============================] - 2s 112us/step - loss: 1.0524 - val_loss: 1.8969\n",
      "Epoch 5/10\n",
      "19733/19733 [==============================] - 2s 116us/step - loss: 0.8820 - val_loss: 1.9060\n",
      "Epoch 6/10\n",
      "19733/19733 [==============================] - 2s 116us/step - loss: 0.7867 - val_loss: 1.8922\n",
      "Epoch 7/10\n",
      "19733/19733 [==============================] - 2s 116us/step - loss: 0.7340 - val_loss: 1.9286\n",
      "Epoch 8/10\n",
      "19733/19733 [==============================] - 2s 112us/step - loss: 0.7035 - val_loss: 1.9047\n",
      "Epoch 9/10\n",
      "19733/19733 [==============================] - 2s 110us/step - loss: 0.6801 - val_loss: 1.9081\n",
      "Epoch 10/10\n",
      "19733/19733 [==============================] - 2s 122us/step - loss: 0.6608 - val_loss: 1.9279\n"
     ]
    }
   ],
   "source": [
    "dense_10_128 = ModelDense(10)\n",
    "dense_10_128.fit()"
   ]
  },
  {
   "cell_type": "markdown",
   "metadata": {},
   "source": [
    "### `model summary`"
   ]
  },
  {
   "cell_type": "code",
   "execution_count": 89,
   "metadata": {},
   "outputs": [
    {
     "data": {
      "image/svg+xml": [
       "<svg height=\"458pt\" viewBox=\"0.00 0.00 681.56 458.00\" width=\"682pt\" xmlns=\"http://www.w3.org/2000/svg\" xmlns:xlink=\"http://www.w3.org/1999/xlink\">\n",
       "<g class=\"graph\" id=\"graph0\" transform=\"scale(1 1) rotate(0) translate(4 454)\">\n",
       "<title>G</title>\n",
       "<polygon fill=\"#ffffff\" points=\"-4,4 -4,-454 677.5625,-454 677.5625,4 -4,4\" stroke=\"transparent\"/>\n",
       "<!-- 5284100920 -->\n",
       "<g class=\"node\" id=\"node1\">\n",
       "<title>5284100920</title>\n",
       "<polygon fill=\"none\" points=\"46.2793,-405.5 46.2793,-449.5 280.5039,-449.5 280.5039,-405.5 46.2793,-405.5\" stroke=\"#000000\"/>\n",
       "<text fill=\"#000000\" font-family=\"Times,serif\" font-size=\"14.00\" text-anchor=\"middle\" x=\"100.7329\" y=\"-423.3\">user: InputLayer</text>\n",
       "<polyline fill=\"none\" points=\"155.1865,-405.5 155.1865,-449.5 \" stroke=\"#000000\"/>\n",
       "<text fill=\"#000000\" font-family=\"Times,serif\" font-size=\"14.00\" text-anchor=\"middle\" x=\"183.021\" y=\"-434.3\">input:</text>\n",
       "<polyline fill=\"none\" points=\"155.1865,-427.5 210.8555,-427.5 \" stroke=\"#000000\"/>\n",
       "<text fill=\"#000000\" font-family=\"Times,serif\" font-size=\"14.00\" text-anchor=\"middle\" x=\"183.021\" y=\"-412.3\">output:</text>\n",
       "<polyline fill=\"none\" points=\"210.8555,-405.5 210.8555,-449.5 \" stroke=\"#000000\"/>\n",
       "<text fill=\"#000000\" font-family=\"Times,serif\" font-size=\"14.00\" text-anchor=\"middle\" x=\"245.6797\" y=\"-434.3\">(None, 1)</text>\n",
       "<polyline fill=\"none\" points=\"210.8555,-427.5 280.5039,-427.5 \" stroke=\"#000000\"/>\n",
       "<text fill=\"#000000\" font-family=\"Times,serif\" font-size=\"14.00\" text-anchor=\"middle\" x=\"245.6797\" y=\"-412.3\">(None, 1)</text>\n",
       "</g>\n",
       "<!-- 5289091648 -->\n",
       "<g class=\"node\" id=\"node3\">\n",
       "<title>5289091648</title>\n",
       "<polygon fill=\"none\" points=\"0,-324.5 0,-368.5 326.7832,-368.5 326.7832,-324.5 0,-324.5\" stroke=\"#000000\"/>\n",
       "<text fill=\"#000000\" font-family=\"Times,serif\" font-size=\"14.00\" text-anchor=\"middle\" x=\"90.2329\" y=\"-342.3\">user_embedding: Embedding</text>\n",
       "<polyline fill=\"none\" points=\"180.4658,-324.5 180.4658,-368.5 \" stroke=\"#000000\"/>\n",
       "<text fill=\"#000000\" font-family=\"Times,serif\" font-size=\"14.00\" text-anchor=\"middle\" x=\"208.3003\" y=\"-353.3\">input:</text>\n",
       "<polyline fill=\"none\" points=\"180.4658,-346.5 236.1348,-346.5 \" stroke=\"#000000\"/>\n",
       "<text fill=\"#000000\" font-family=\"Times,serif\" font-size=\"14.00\" text-anchor=\"middle\" x=\"208.3003\" y=\"-331.3\">output:</text>\n",
       "<polyline fill=\"none\" points=\"236.1348,-324.5 236.1348,-368.5 \" stroke=\"#000000\"/>\n",
       "<text fill=\"#000000\" font-family=\"Times,serif\" font-size=\"14.00\" text-anchor=\"middle\" x=\"281.459\" y=\"-353.3\">(None, 1)</text>\n",
       "<polyline fill=\"none\" points=\"236.1348,-346.5 326.7832,-346.5 \" stroke=\"#000000\"/>\n",
       "<text fill=\"#000000\" font-family=\"Times,serif\" font-size=\"14.00\" text-anchor=\"middle\" x=\"281.459\" y=\"-331.3\">(None, 1, 10)</text>\n",
       "</g>\n",
       "<!-- 5284100920&#45;&gt;5289091648 -->\n",
       "<g class=\"edge\" id=\"edge1\">\n",
       "<title>5284100920-&gt;5289091648</title>\n",
       "<path d=\"M163.3916,-405.3664C163.3916,-397.1516 163.3916,-387.6579 163.3916,-378.7252\" fill=\"none\" stroke=\"#000000\"/>\n",
       "<polygon fill=\"#000000\" points=\"166.8917,-378.6068 163.3916,-368.6068 159.8917,-378.6069 166.8917,-378.6068\" stroke=\"#000000\"/>\n",
       "</g>\n",
       "<!-- 5284186600 -->\n",
       "<g class=\"node\" id=\"node2\">\n",
       "<title>5284186600</title>\n",
       "<polygon fill=\"none\" points=\"391.5,-405.5 391.5,-449.5 627.2832,-449.5 627.2832,-405.5 391.5,-405.5\" stroke=\"#000000\"/>\n",
       "<text fill=\"#000000\" font-family=\"Times,serif\" font-size=\"14.00\" text-anchor=\"middle\" x=\"446.7329\" y=\"-423.3\">item: InputLayer</text>\n",
       "<polyline fill=\"none\" points=\"501.9658,-405.5 501.9658,-449.5 \" stroke=\"#000000\"/>\n",
       "<text fill=\"#000000\" font-family=\"Times,serif\" font-size=\"14.00\" text-anchor=\"middle\" x=\"529.8003\" y=\"-434.3\">input:</text>\n",
       "<polyline fill=\"none\" points=\"501.9658,-427.5 557.6348,-427.5 \" stroke=\"#000000\"/>\n",
       "<text fill=\"#000000\" font-family=\"Times,serif\" font-size=\"14.00\" text-anchor=\"middle\" x=\"529.8003\" y=\"-412.3\">output:</text>\n",
       "<polyline fill=\"none\" points=\"557.6348,-405.5 557.6348,-449.5 \" stroke=\"#000000\"/>\n",
       "<text fill=\"#000000\" font-family=\"Times,serif\" font-size=\"14.00\" text-anchor=\"middle\" x=\"592.459\" y=\"-434.3\">(None, 1)</text>\n",
       "<polyline fill=\"none\" points=\"557.6348,-427.5 627.2832,-427.5 \" stroke=\"#000000\"/>\n",
       "<text fill=\"#000000\" font-family=\"Times,serif\" font-size=\"14.00\" text-anchor=\"middle\" x=\"592.459\" y=\"-412.3\">(None, 1)</text>\n",
       "</g>\n",
       "<!-- 5283029848 -->\n",
       "<g class=\"node\" id=\"node4\">\n",
       "<title>5283029848</title>\n",
       "<polygon fill=\"none\" points=\"345.2207,-324.5 345.2207,-368.5 673.5625,-368.5 673.5625,-324.5 345.2207,-324.5\" stroke=\"#000000\"/>\n",
       "<text fill=\"#000000\" font-family=\"Times,serif\" font-size=\"14.00\" text-anchor=\"middle\" x=\"436.2329\" y=\"-342.3\">item_embedding: Embedding</text>\n",
       "<polyline fill=\"none\" points=\"527.2451,-324.5 527.2451,-368.5 \" stroke=\"#000000\"/>\n",
       "<text fill=\"#000000\" font-family=\"Times,serif\" font-size=\"14.00\" text-anchor=\"middle\" x=\"555.0796\" y=\"-353.3\">input:</text>\n",
       "<polyline fill=\"none\" points=\"527.2451,-346.5 582.9141,-346.5 \" stroke=\"#000000\"/>\n",
       "<text fill=\"#000000\" font-family=\"Times,serif\" font-size=\"14.00\" text-anchor=\"middle\" x=\"555.0796\" y=\"-331.3\">output:</text>\n",
       "<polyline fill=\"none\" points=\"582.9141,-324.5 582.9141,-368.5 \" stroke=\"#000000\"/>\n",
       "<text fill=\"#000000\" font-family=\"Times,serif\" font-size=\"14.00\" text-anchor=\"middle\" x=\"628.2383\" y=\"-353.3\">(None, 1)</text>\n",
       "<polyline fill=\"none\" points=\"582.9141,-346.5 673.5625,-346.5 \" stroke=\"#000000\"/>\n",
       "<text fill=\"#000000\" font-family=\"Times,serif\" font-size=\"14.00\" text-anchor=\"middle\" x=\"628.2383\" y=\"-331.3\">(None, 1, 10)</text>\n",
       "</g>\n",
       "<!-- 5284186600&#45;&gt;5283029848 -->\n",
       "<g class=\"edge\" id=\"edge2\">\n",
       "<title>5284186600-&gt;5283029848</title>\n",
       "<path d=\"M509.3916,-405.3664C509.3916,-397.1516 509.3916,-387.6579 509.3916,-378.7252\" fill=\"none\" stroke=\"#000000\"/>\n",
       "<polygon fill=\"#000000\" points=\"512.8917,-378.6068 509.3916,-368.6068 505.8917,-378.6069 512.8917,-378.6068\" stroke=\"#000000\"/>\n",
       "</g>\n",
       "<!-- 5289181536 -->\n",
       "<g class=\"node\" id=\"node5\">\n",
       "<title>5289181536</title>\n",
       "<polygon fill=\"none\" points=\"45.9482,-243.5 45.9482,-287.5 326.835,-287.5 326.835,-243.5 45.9482,-243.5\" stroke=\"#000000\"/>\n",
       "<text fill=\"#000000\" font-family=\"Times,serif\" font-size=\"14.00\" text-anchor=\"middle\" x=\"113.2329\" y=\"-261.3\">reshape_39: Reshape</text>\n",
       "<polyline fill=\"none\" points=\"180.5176,-243.5 180.5176,-287.5 \" stroke=\"#000000\"/>\n",
       "<text fill=\"#000000\" font-family=\"Times,serif\" font-size=\"14.00\" text-anchor=\"middle\" x=\"208.3521\" y=\"-272.3\">input:</text>\n",
       "<polyline fill=\"none\" points=\"180.5176,-265.5 236.1865,-265.5 \" stroke=\"#000000\"/>\n",
       "<text fill=\"#000000\" font-family=\"Times,serif\" font-size=\"14.00\" text-anchor=\"middle\" x=\"208.3521\" y=\"-250.3\">output:</text>\n",
       "<polyline fill=\"none\" points=\"236.1865,-243.5 236.1865,-287.5 \" stroke=\"#000000\"/>\n",
       "<text fill=\"#000000\" font-family=\"Times,serif\" font-size=\"14.00\" text-anchor=\"middle\" x=\"281.5107\" y=\"-272.3\">(None, 1, 10)</text>\n",
       "<polyline fill=\"none\" points=\"236.1865,-265.5 326.835,-265.5 \" stroke=\"#000000\"/>\n",
       "<text fill=\"#000000\" font-family=\"Times,serif\" font-size=\"14.00\" text-anchor=\"middle\" x=\"281.5107\" y=\"-250.3\">(None, 10)</text>\n",
       "</g>\n",
       "<!-- 5289091648&#45;&gt;5289181536 -->\n",
       "<g class=\"edge\" id=\"edge3\">\n",
       "<title>5289091648-&gt;5289181536</title>\n",
       "<path d=\"M169.6765,-324.3664C172.0344,-316.0624 174.7634,-306.4514 177.3239,-297.4341\" fill=\"none\" stroke=\"#000000\"/>\n",
       "<polygon fill=\"#000000\" points=\"180.7497,-298.1826 180.1143,-287.6068 174.0159,-296.2705 180.7497,-298.1826\" stroke=\"#000000\"/>\n",
       "</g>\n",
       "<!-- 5289185232 -->\n",
       "<g class=\"node\" id=\"node6\">\n",
       "<title>5289185232</title>\n",
       "<polygon fill=\"none\" points=\"356.9482,-243.5 356.9482,-287.5 637.835,-287.5 637.835,-243.5 356.9482,-243.5\" stroke=\"#000000\"/>\n",
       "<text fill=\"#000000\" font-family=\"Times,serif\" font-size=\"14.00\" text-anchor=\"middle\" x=\"424.2329\" y=\"-261.3\">reshape_40: Reshape</text>\n",
       "<polyline fill=\"none\" points=\"491.5176,-243.5 491.5176,-287.5 \" stroke=\"#000000\"/>\n",
       "<text fill=\"#000000\" font-family=\"Times,serif\" font-size=\"14.00\" text-anchor=\"middle\" x=\"519.3521\" y=\"-272.3\">input:</text>\n",
       "<polyline fill=\"none\" points=\"491.5176,-265.5 547.1865,-265.5 \" stroke=\"#000000\"/>\n",
       "<text fill=\"#000000\" font-family=\"Times,serif\" font-size=\"14.00\" text-anchor=\"middle\" x=\"519.3521\" y=\"-250.3\">output:</text>\n",
       "<polyline fill=\"none\" points=\"547.1865,-243.5 547.1865,-287.5 \" stroke=\"#000000\"/>\n",
       "<text fill=\"#000000\" font-family=\"Times,serif\" font-size=\"14.00\" text-anchor=\"middle\" x=\"592.5107\" y=\"-272.3\">(None, 1, 10)</text>\n",
       "<polyline fill=\"none\" points=\"547.1865,-265.5 637.835,-265.5 \" stroke=\"#000000\"/>\n",
       "<text fill=\"#000000\" font-family=\"Times,serif\" font-size=\"14.00\" text-anchor=\"middle\" x=\"592.5107\" y=\"-250.3\">(None, 10)</text>\n",
       "</g>\n",
       "<!-- 5283029848&#45;&gt;5289185232 -->\n",
       "<g class=\"edge\" id=\"edge4\">\n",
       "<title>5283029848-&gt;5289185232</title>\n",
       "<path d=\"M506.1125,-324.3664C504.8955,-316.1516 503.4891,-306.6579 502.1657,-297.7252\" fill=\"none\" stroke=\"#000000\"/>\n",
       "<polygon fill=\"#000000\" points=\"505.5945,-296.9859 500.6667,-287.6068 498.67,-298.0118 505.5945,-296.9859\" stroke=\"#000000\"/>\n",
       "</g>\n",
       "<!-- 5289094672 -->\n",
       "<g class=\"node\" id=\"node7\">\n",
       "<title>5289094672</title>\n",
       "<polygon fill=\"none\" points=\"144.4272,-162.5 144.4272,-206.5 526.356,-206.5 526.356,-162.5 144.4272,-162.5\" stroke=\"#000000\"/>\n",
       "<text fill=\"#000000\" font-family=\"Times,serif\" font-size=\"14.00\" text-anchor=\"middle\" x=\"230.7466\" y=\"-180.3\">concatenate_7: Concatenate</text>\n",
       "<polyline fill=\"none\" points=\"317.0659,-162.5 317.0659,-206.5 \" stroke=\"#000000\"/>\n",
       "<text fill=\"#000000\" font-family=\"Times,serif\" font-size=\"14.00\" text-anchor=\"middle\" x=\"344.9004\" y=\"-191.3\">input:</text>\n",
       "<polyline fill=\"none\" points=\"317.0659,-184.5 372.7349,-184.5 \" stroke=\"#000000\"/>\n",
       "<text fill=\"#000000\" font-family=\"Times,serif\" font-size=\"14.00\" text-anchor=\"middle\" x=\"344.9004\" y=\"-169.3\">output:</text>\n",
       "<polyline fill=\"none\" points=\"372.7349,-162.5 372.7349,-206.5 \" stroke=\"#000000\"/>\n",
       "<text fill=\"#000000\" font-family=\"Times,serif\" font-size=\"14.00\" text-anchor=\"middle\" x=\"449.5454\" y=\"-191.3\">[(None, 10), (None, 10)]</text>\n",
       "<polyline fill=\"none\" points=\"372.7349,-184.5 526.356,-184.5 \" stroke=\"#000000\"/>\n",
       "<text fill=\"#000000\" font-family=\"Times,serif\" font-size=\"14.00\" text-anchor=\"middle\" x=\"449.0591\" y=\"-169.3\">(None, 20)</text>\n",
       "</g>\n",
       "<!-- 5289181536&#45;&gt;5289094672 -->\n",
       "<g class=\"edge\" id=\"edge5\">\n",
       "<title>5289181536-&gt;5289094672</title>\n",
       "<path d=\"M227.1065,-243.3664C245.2562,-233.4998 266.8,-221.7881 285.8732,-211.4194\" fill=\"none\" stroke=\"#000000\"/>\n",
       "<polygon fill=\"#000000\" points=\"287.6119,-214.458 294.7259,-206.6068 284.2685,-208.308 287.6119,-214.458\" stroke=\"#000000\"/>\n",
       "</g>\n",
       "<!-- 5289185232&#45;&gt;5289094672 -->\n",
       "<g class=\"edge\" id=\"edge6\">\n",
       "<title>5289185232-&gt;5289094672</title>\n",
       "<path d=\"M453.1244,-243.3664C433.2126,-233.4105 409.5435,-221.5759 388.6681,-211.1382\" fill=\"none\" stroke=\"#000000\"/>\n",
       "<polygon fill=\"#000000\" points=\"390.1148,-207.9485 379.6053,-206.6068 386.9843,-214.2095 390.1148,-207.9485\" stroke=\"#000000\"/>\n",
       "</g>\n",
       "<!-- 5284187104 -->\n",
       "<g class=\"node\" id=\"node8\">\n",
       "<title>5284187104</title>\n",
       "<polygon fill=\"none\" points=\"210.1069,-81.5 210.1069,-125.5 460.6763,-125.5 460.6763,-81.5 210.1069,-81.5\" stroke=\"#000000\"/>\n",
       "<text fill=\"#000000\" font-family=\"Times,serif\" font-size=\"14.00\" text-anchor=\"middle\" x=\"265.7329\" y=\"-99.3\">dense_13: Dense</text>\n",
       "<polyline fill=\"none\" points=\"321.3589,-81.5 321.3589,-125.5 \" stroke=\"#000000\"/>\n",
       "<text fill=\"#000000\" font-family=\"Times,serif\" font-size=\"14.00\" text-anchor=\"middle\" x=\"349.1934\" y=\"-110.3\">input:</text>\n",
       "<polyline fill=\"none\" points=\"321.3589,-103.5 377.0278,-103.5 \" stroke=\"#000000\"/>\n",
       "<text fill=\"#000000\" font-family=\"Times,serif\" font-size=\"14.00\" text-anchor=\"middle\" x=\"349.1934\" y=\"-88.3\">output:</text>\n",
       "<polyline fill=\"none\" points=\"377.0278,-81.5 377.0278,-125.5 \" stroke=\"#000000\"/>\n",
       "<text fill=\"#000000\" font-family=\"Times,serif\" font-size=\"14.00\" text-anchor=\"middle\" x=\"418.8521\" y=\"-110.3\">(None, 20)</text>\n",
       "<polyline fill=\"none\" points=\"377.0278,-103.5 460.6763,-103.5 \" stroke=\"#000000\"/>\n",
       "<text fill=\"#000000\" font-family=\"Times,serif\" font-size=\"14.00\" text-anchor=\"middle\" x=\"418.8521\" y=\"-88.3\">(None, 128)</text>\n",
       "</g>\n",
       "<!-- 5289094672&#45;&gt;5284187104 -->\n",
       "<g class=\"edge\" id=\"edge7\">\n",
       "<title>5289094672-&gt;5284187104</title>\n",
       "<path d=\"M335.3916,-162.3664C335.3916,-154.1516 335.3916,-144.6579 335.3916,-135.7252\" fill=\"none\" stroke=\"#000000\"/>\n",
       "<polygon fill=\"#000000\" points=\"338.8917,-135.6068 335.3916,-125.6068 331.8917,-135.6069 338.8917,-135.6068\" stroke=\"#000000\"/>\n",
       "</g>\n",
       "<!-- 5297308952 -->\n",
       "<g class=\"node\" id=\"node9\">\n",
       "<title>5297308952</title>\n",
       "<polygon fill=\"none\" points=\"210.1069,-.5 210.1069,-44.5 460.6763,-44.5 460.6763,-.5 210.1069,-.5\" stroke=\"#000000\"/>\n",
       "<text fill=\"#000000\" font-family=\"Times,serif\" font-size=\"14.00\" text-anchor=\"middle\" x=\"265.7329\" y=\"-18.3\">dense_14: Dense</text>\n",
       "<polyline fill=\"none\" points=\"321.3589,-.5 321.3589,-44.5 \" stroke=\"#000000\"/>\n",
       "<text fill=\"#000000\" font-family=\"Times,serif\" font-size=\"14.00\" text-anchor=\"middle\" x=\"349.1934\" y=\"-29.3\">input:</text>\n",
       "<polyline fill=\"none\" points=\"321.3589,-22.5 377.0278,-22.5 \" stroke=\"#000000\"/>\n",
       "<text fill=\"#000000\" font-family=\"Times,serif\" font-size=\"14.00\" text-anchor=\"middle\" x=\"349.1934\" y=\"-7.3\">output:</text>\n",
       "<polyline fill=\"none\" points=\"377.0278,-.5 377.0278,-44.5 \" stroke=\"#000000\"/>\n",
       "<text fill=\"#000000\" font-family=\"Times,serif\" font-size=\"14.00\" text-anchor=\"middle\" x=\"418.8521\" y=\"-29.3\">(None, 128)</text>\n",
       "<polyline fill=\"none\" points=\"377.0278,-22.5 460.6763,-22.5 \" stroke=\"#000000\"/>\n",
       "<text fill=\"#000000\" font-family=\"Times,serif\" font-size=\"14.00\" text-anchor=\"middle\" x=\"418.8521\" y=\"-7.3\">(None, 1)</text>\n",
       "</g>\n",
       "<!-- 5284187104&#45;&gt;5297308952 -->\n",
       "<g class=\"edge\" id=\"edge8\">\n",
       "<title>5284187104-&gt;5297308952</title>\n",
       "<path d=\"M335.3916,-81.3664C335.3916,-73.1516 335.3916,-63.6579 335.3916,-54.7252\" fill=\"none\" stroke=\"#000000\"/>\n",
       "<polygon fill=\"#000000\" points=\"338.8917,-54.6068 335.3916,-44.6068 331.8917,-54.6069 338.8917,-54.6068\" stroke=\"#000000\"/>\n",
       "</g>\n",
       "</g>\n",
       "</svg>"
      ],
      "text/plain": [
       "<IPython.core.display.SVG object>"
      ]
     },
     "execution_count": 89,
     "metadata": {},
     "output_type": "execute_result"
    }
   ],
   "source": [
    "dense_10_128 = ModelDense(10)\n",
    "dense_10_128.svg()"
   ]
  },
  {
   "cell_type": "markdown",
   "metadata": {},
   "source": [
    "### `Error Graph`"
   ]
  },
  {
   "cell_type": "code",
   "execution_count": 90,
   "metadata": {
    "scrolled": false
   },
   "outputs": [
    {
     "data": {
      "text/html": [
       "<div>\n",
       "<style scoped>\n",
       "    .dataframe tbody tr th:only-of-type {\n",
       "        vertical-align: middle;\n",
       "    }\n",
       "\n",
       "    .dataframe tbody tr th {\n",
       "        vertical-align: top;\n",
       "    }\n",
       "\n",
       "    .dataframe thead th {\n",
       "        text-align: right;\n",
       "    }\n",
       "</style>\n",
       "<table border=\"1\" class=\"dataframe\">\n",
       "  <thead>\n",
       "    <tr style=\"text-align: right;\">\n",
       "      <th></th>\n",
       "      <th>0</th>\n",
       "      <th>1</th>\n",
       "      <th>2</th>\n",
       "      <th>3</th>\n",
       "      <th>4</th>\n",
       "      <th>5</th>\n",
       "      <th>6</th>\n",
       "      <th>7</th>\n",
       "      <th>8</th>\n",
       "      <th>9</th>\n",
       "    </tr>\n",
       "  </thead>\n",
       "  <tbody>\n",
       "    <tr>\n",
       "      <th>loss</th>\n",
       "      <td>3.504327</td>\n",
       "      <td>1.769214</td>\n",
       "      <td>1.380132</td>\n",
       "      <td>1.052425</td>\n",
       "      <td>0.882022</td>\n",
       "      <td>0.786668</td>\n",
       "      <td>0.734035</td>\n",
       "      <td>0.703547</td>\n",
       "      <td>0.680059</td>\n",
       "      <td>0.660828</td>\n",
       "    </tr>\n",
       "    <tr>\n",
       "      <th>val_loss</th>\n",
       "      <td>1.946802</td>\n",
       "      <td>1.836781</td>\n",
       "      <td>1.855381</td>\n",
       "      <td>1.896879</td>\n",
       "      <td>1.905974</td>\n",
       "      <td>1.892182</td>\n",
       "      <td>1.928598</td>\n",
       "      <td>1.904748</td>\n",
       "      <td>1.908106</td>\n",
       "      <td>1.927934</td>\n",
       "    </tr>\n",
       "  </tbody>\n",
       "</table>\n",
       "</div>"
      ],
      "text/plain": [
       "                 0         1         2         3         4         5  \\\n",
       "loss      3.504327  1.769214  1.380132  1.052425  0.882022  0.786668   \n",
       "val_loss  1.946802  1.836781  1.855381  1.896879  1.905974  1.892182   \n",
       "\n",
       "                 6         7         8         9  \n",
       "loss      0.734035  0.703547  0.680059  0.660828  \n",
       "val_loss  1.928598  1.904748  1.908106  1.927934  "
      ]
     },
     "execution_count": 90,
     "metadata": {},
     "output_type": "execute_result"
    },
    {
     "data": {
      "image/png": "[encoded data removed]",
      "text/plain": [
       "<Figure size 432x288 with 1 Axes>"
      ]
     },
     "metadata": {
      "needs_background": "light"
     },
     "output_type": "display_data"
    }
   ],
   "source": [
    "history_ls = ['dense_10_2019_02_01_17_51.pkl']\n",
    "loss_graph(history_ls)"
   ]
  },
  {
   "cell_type": "markdown",
   "metadata": {},
   "source": [
    "## 3.4 model_dense_10 과 model_facto_10의 loss 비교"
   ]
  },
  {
   "cell_type": "code",
   "execution_count": 91,
   "metadata": {},
   "outputs": [
    {
     "data": {
      "text/html": [
       "<div>\n",
       "<style scoped>\n",
       "    .dataframe tbody tr th:only-of-type {\n",
       "        vertical-align: middle;\n",
       "    }\n",
       "\n",
       "    .dataframe tbody tr th {\n",
       "        vertical-align: top;\n",
       "    }\n",
       "\n",
       "    .dataframe thead th {\n",
       "        text-align: right;\n",
       "    }\n",
       "</style>\n",
       "<table border=\"1\" class=\"dataframe\">\n",
       "  <thead>\n",
       "    <tr style=\"text-align: right;\">\n",
       "      <th></th>\n",
       "      <th>0</th>\n",
       "      <th>1</th>\n",
       "      <th>2</th>\n",
       "      <th>3</th>\n",
       "      <th>4</th>\n",
       "      <th>5</th>\n",
       "      <th>6</th>\n",
       "      <th>7</th>\n",
       "      <th>8</th>\n",
       "      <th>9</th>\n",
       "    </tr>\n",
       "  </thead>\n",
       "  <tbody>\n",
       "    <tr>\n",
       "      <th>loss</th>\n",
       "      <td>8.135727</td>\n",
       "      <td>8.118095</td>\n",
       "      <td>7.996657</td>\n",
       "      <td>7.695979</td>\n",
       "      <td>7.247486</td>\n",
       "      <td>6.687834</td>\n",
       "      <td>6.038724</td>\n",
       "      <td>5.317258</td>\n",
       "      <td>4.575901</td>\n",
       "      <td>3.900819</td>\n",
       "    </tr>\n",
       "    <tr>\n",
       "      <th>val_loss</th>\n",
       "      <td>8.139970</td>\n",
       "      <td>8.127555</td>\n",
       "      <td>8.079277</td>\n",
       "      <td>7.990482</td>\n",
       "      <td>7.873907</td>\n",
       "      <td>7.739571</td>\n",
       "      <td>7.594226</td>\n",
       "      <td>7.440572</td>\n",
       "      <td>7.299391</td>\n",
       "      <td>7.182985</td>\n",
       "    </tr>\n",
       "  </tbody>\n",
       "</table>\n",
       "</div>"
      ],
      "text/plain": [
       "                 0         1         2         3         4         5  \\\n",
       "loss      8.135727  8.118095  7.996657  7.695979  7.247486  6.687834   \n",
       "val_loss  8.139970  8.127555  8.079277  7.990482  7.873907  7.739571   \n",
       "\n",
       "                 6         7         8         9  \n",
       "loss      6.038724  5.317258  4.575901  3.900819  \n",
       "val_loss  7.594226  7.440572  7.299391  7.182985  "
      ]
     },
     "execution_count": 91,
     "metadata": {},
     "output_type": "execute_result"
    },
    {
     "data": {
      "image/png": "[encoded data removed]",
      "text/plain": [
       "<Figure size 432x288 with 1 Axes>"
      ]
     },
     "metadata": {
      "needs_background": "light"
     },
     "output_type": "display_data"
    }
   ],
   "source": [
    "history_ls = ['dense_10_2019_02_01_17_51.pkl','matrix_facto_10_2019_02_01_17_10.pkl']\n",
    "loss_graph(history_ls)"
   ]
  },
  {
   "cell_type": "code",
   "execution_count": null,
   "metadata": {},
   "outputs": [],
   "source": []
  },
  {
   "cell_type": "code",
   "execution_count": null,
   "metadata": {},
   "outputs": [],
   "source": []
  },
  {
   "cell_type": "code",
   "execution_count": null,
   "metadata": {},
   "outputs": [],
   "source": []
  },
  {
   "cell_type": "code",
   "execution_count": null,
   "metadata": {},
   "outputs": [],
   "source": []
  },
  {
   "cell_type": "code",
   "execution_count": null,
   "metadata": {},
   "outputs": [],
   "source": []
  },
  {
   "cell_type": "code",
   "execution_count": null,
   "metadata": {},
   "outputs": [],
   "source": []
  },
  {
   "cell_type": "markdown",
   "metadata": {},
   "source": [
    "## 4.1 optimizer = `Adam`\n",
    "- epoch : 100\n",
    "- latent_factor : 3\n",
    "- MAE : 6.20"
   ]
  },
  {
   "cell_type": "markdown",
   "metadata": {},
   "source": [
    "### `layer`"
   ]
  },
  {
   "cell_type": "code",
   "execution_count": 48,
   "metadata": {},
   "outputs": [],
   "source": [
    "n_users, n_movies = len(df.user_id.unique()), len(df.movie_id.unique())\n",
    "n_latent_factors = 3"
   ]
  },
  {
   "cell_type": "code",
   "execution_count": 49,
   "metadata": {},
   "outputs": [
    {
     "data": {
      "text/plain": [
       "<tf.Tensor 'NonNegMovie-Embedding/embedding_lookup/Identity:0' shape=(?, 1, 3) dtype=float32>"
      ]
     },
     "execution_count": 49,
     "metadata": {},
     "output_type": "execute_result"
    }
   ],
   "source": [
    "movie_input = keras.layers.Input(shape=[1],name='Movie')\n",
    "movie_embedding = keras.layers.Embedding(n_movies + 1, n_latent_factors, name='NonNegMovie-Embedding', embeddings_constraint=non_neg())(movie_input)\n",
    "movie_vec = keras.layers.Flatten(name='FlattenMovies')(movie_embedding)\n",
    "movie_embedding"
   ]
  },
  {
   "cell_type": "code",
   "execution_count": 50,
   "metadata": {},
   "outputs": [
    {
     "data": {
      "text/plain": [
       "<tf.Tensor 'FlattenUsers/Reshape:0' shape=(?, ?) dtype=float32>"
      ]
     },
     "execution_count": 50,
     "metadata": {},
     "output_type": "execute_result"
    }
   ],
   "source": [
    "user_input = keras.layers.Input(shape=[1],name='User')\n",
    "user_embedding = keras.layers.Embedding(n_users + 1, n_latent_factors, name='NonNegUser-Embedding', embeddings_constraint=non_neg())(user_input)\n",
    "user_vec = keras.layers.Flatten(name='FlattenUsers')(user_embedding)\n",
    "user_vec"
   ]
  },
  {
   "cell_type": "code",
   "execution_count": 51,
   "metadata": {},
   "outputs": [],
   "source": [
    "prod = keras.layers.dot([movie_vec, user_vec], axes=1, normalize=False)\n",
    "model = keras.Model([user_input, movie_input], prod)\n",
    "model.compile('adam', 'mean_squared_error')"
   ]
  },
  {
   "cell_type": "code",
   "execution_count": 52,
   "metadata": {
    "scrolled": true
   },
   "outputs": [
    {
     "name": "stdout",
     "output_type": "stream",
     "text": [
      "__________________________________________________________________________________________________\n",
      "Layer (type)                    Output Shape         Param #     Connected to                     \n",
      "==================================================================================================\n",
      "Movie (InputLayer)              (None, 1)            0                                            \n",
      "__________________________________________________________________________________________________\n",
      "User (InputLayer)               (None, 1)            0                                            \n",
      "__________________________________________________________________________________________________\n",
      "NonNegMovie-Embedding (Embeddin (None, 1, 3)         6345        Movie[0][0]                      \n",
      "__________________________________________________________________________________________________\n",
      "NonNegUser-Embedding (Embedding (None, 1, 3)         45621       User[0][0]                       \n",
      "__________________________________________________________________________________________________\n",
      "FlattenMovies (Flatten)         (None, 3)            0           NonNegMovie-Embedding[0][0]      \n",
      "__________________________________________________________________________________________________\n",
      "FlattenUsers (Flatten)          (None, 3)            0           NonNegUser-Embedding[0][0]       \n",
      "__________________________________________________________________________________________________\n",
      "dot_1 (Dot)                     (None, 1)            0           FlattenMovies[0][0]              \n",
      "                                                                 FlattenUsers[0][0]               \n",
      "==================================================================================================\n",
      "Total params: 51,966\n",
      "Trainable params: 51,966\n",
      "Non-trainable params: 0\n",
      "__________________________________________________________________________________________________\n"
     ]
    }
   ],
   "source": [
    "model.summary()"
   ]
  },
  {
   "cell_type": "code",
   "execution_count": 62,
   "metadata": {},
   "outputs": [
    {
     "data": {
      "image/svg+xml": [
       "<svg height=\"296pt\" viewBox=\"0.00 0.00 776.25 296.00\" width=\"776pt\" xmlns=\"http://www.w3.org/2000/svg\" xmlns:xlink=\"http://www.w3.org/1999/xlink\">\n",
       "<g class=\"graph\" id=\"graph0\" transform=\"scale(1 1) rotate(0) translate(4 292)\">\n",
       "<title>G</title>\n",
       "<polygon fill=\"#ffffff\" points=\"-4,4 -4,-292 772.25,-292 772.25,4 -4,4\" stroke=\"transparent\"/>\n",
       "<!-- 4371519752 -->\n",
       "<g class=\"node\" id=\"node1\">\n",
       "<title>4371519752</title>\n",
       "<polygon fill=\"none\" points=\"66.4966,-243.5 66.4966,-287.5 313.9487,-287.5 313.9487,-243.5 66.4966,-243.5\" stroke=\"#000000\"/>\n",
       "<text fill=\"#000000\" font-family=\"Times,serif\" font-size=\"14.00\" text-anchor=\"middle\" x=\"127.564\" y=\"-261.3\">Movie: InputLayer</text>\n",
       "<polyline fill=\"none\" points=\"188.6313,-243.5 188.6313,-287.5 \" stroke=\"#000000\"/>\n",
       "<text fill=\"#000000\" font-family=\"Times,serif\" font-size=\"14.00\" text-anchor=\"middle\" x=\"216.4658\" y=\"-272.3\">input:</text>\n",
       "<polyline fill=\"none\" points=\"188.6313,-265.5 244.3003,-265.5 \" stroke=\"#000000\"/>\n",
       "<text fill=\"#000000\" font-family=\"Times,serif\" font-size=\"14.00\" text-anchor=\"middle\" x=\"216.4658\" y=\"-250.3\">output:</text>\n",
       "<polyline fill=\"none\" points=\"244.3003,-243.5 244.3003,-287.5 \" stroke=\"#000000\"/>\n",
       "<text fill=\"#000000\" font-family=\"Times,serif\" font-size=\"14.00\" text-anchor=\"middle\" x=\"279.1245\" y=\"-272.3\">(None, 1)</text>\n",
       "<polyline fill=\"none\" points=\"244.3003,-265.5 313.9487,-265.5 \" stroke=\"#000000\"/>\n",
       "<text fill=\"#000000\" font-family=\"Times,serif\" font-size=\"14.00\" text-anchor=\"middle\" x=\"279.1245\" y=\"-250.3\">(None, 1)</text>\n",
       "</g>\n",
       "<!-- 4371520144 -->\n",
       "<g class=\"node\" id=\"node3\">\n",
       "<title>4371520144</title>\n",
       "<polygon fill=\"none\" points=\"0,-162.5 0,-206.5 380.4453,-206.5 380.4453,-162.5 0,-162.5\" stroke=\"#000000\"/>\n",
       "<text fill=\"#000000\" font-family=\"Times,serif\" font-size=\"14.00\" text-anchor=\"middle\" x=\"120.564\" y=\"-180.3\">NonNegMovie-Embedding: Embedding</text>\n",
       "<polyline fill=\"none\" points=\"241.1279,-162.5 241.1279,-206.5 \" stroke=\"#000000\"/>\n",
       "<text fill=\"#000000\" font-family=\"Times,serif\" font-size=\"14.00\" text-anchor=\"middle\" x=\"268.9624\" y=\"-191.3\">input:</text>\n",
       "<polyline fill=\"none\" points=\"241.1279,-184.5 296.7969,-184.5 \" stroke=\"#000000\"/>\n",
       "<text fill=\"#000000\" font-family=\"Times,serif\" font-size=\"14.00\" text-anchor=\"middle\" x=\"268.9624\" y=\"-169.3\">output:</text>\n",
       "<polyline fill=\"none\" points=\"296.7969,-162.5 296.7969,-206.5 \" stroke=\"#000000\"/>\n",
       "<text fill=\"#000000\" font-family=\"Times,serif\" font-size=\"14.00\" text-anchor=\"middle\" x=\"338.6211\" y=\"-191.3\">(None, 1)</text>\n",
       "<polyline fill=\"none\" points=\"296.7969,-184.5 380.4453,-184.5 \" stroke=\"#000000\"/>\n",
       "<text fill=\"#000000\" font-family=\"Times,serif\" font-size=\"14.00\" text-anchor=\"middle\" x=\"338.6211\" y=\"-169.3\">(None, 1, 3)</text>\n",
       "</g>\n",
       "<!-- 4371519752&#45;&gt;4371520144 -->\n",
       "<g class=\"edge\" id=\"edge1\">\n",
       "<title>4371519752-&gt;4371520144</title>\n",
       "<path d=\"M190.2227,-243.3664C190.2227,-235.1516 190.2227,-225.6579 190.2227,-216.7252\" fill=\"none\" stroke=\"#000000\"/>\n",
       "<polygon fill=\"#000000\" points=\"193.7228,-216.6068 190.2227,-206.6068 186.7228,-216.6069 193.7228,-216.6068\" stroke=\"#000000\"/>\n",
       "</g>\n",
       "<!-- 4944467000 -->\n",
       "<g class=\"node\" id=\"node2\">\n",
       "<title>4944467000</title>\n",
       "<polygon fill=\"none\" points=\"464.5552,-243.5 464.5552,-287.5 701.8901,-287.5 701.8901,-243.5 464.5552,-243.5\" stroke=\"#000000\"/>\n",
       "<text fill=\"#000000\" font-family=\"Times,serif\" font-size=\"14.00\" text-anchor=\"middle\" x=\"520.564\" y=\"-261.3\">User: InputLayer</text>\n",
       "<polyline fill=\"none\" points=\"576.5728,-243.5 576.5728,-287.5 \" stroke=\"#000000\"/>\n",
       "<text fill=\"#000000\" font-family=\"Times,serif\" font-size=\"14.00\" text-anchor=\"middle\" x=\"604.4072\" y=\"-272.3\">input:</text>\n",
       "<polyline fill=\"none\" points=\"576.5728,-265.5 632.2417,-265.5 \" stroke=\"#000000\"/>\n",
       "<text fill=\"#000000\" font-family=\"Times,serif\" font-size=\"14.00\" text-anchor=\"middle\" x=\"604.4072\" y=\"-250.3\">output:</text>\n",
       "<polyline fill=\"none\" points=\"632.2417,-243.5 632.2417,-287.5 \" stroke=\"#000000\"/>\n",
       "<text fill=\"#000000\" font-family=\"Times,serif\" font-size=\"14.00\" text-anchor=\"middle\" x=\"667.0659\" y=\"-272.3\">(None, 1)</text>\n",
       "<polyline fill=\"none\" points=\"632.2417,-265.5 701.8901,-265.5 \" stroke=\"#000000\"/>\n",
       "<text fill=\"#000000\" font-family=\"Times,serif\" font-size=\"14.00\" text-anchor=\"middle\" x=\"667.0659\" y=\"-250.3\">(None, 1)</text>\n",
       "</g>\n",
       "<!-- 4905098544 -->\n",
       "<g class=\"node\" id=\"node4\">\n",
       "<title>4905098544</title>\n",
       "<polygon fill=\"none\" points=\"398.1953,-162.5 398.1953,-206.5 768.25,-206.5 768.25,-162.5 398.1953,-162.5\" stroke=\"#000000\"/>\n",
       "<text fill=\"#000000\" font-family=\"Times,serif\" font-size=\"14.00\" text-anchor=\"middle\" x=\"513.564\" y=\"-180.3\">NonNegUser-Embedding: Embedding</text>\n",
       "<polyline fill=\"none\" points=\"628.9326,-162.5 628.9326,-206.5 \" stroke=\"#000000\"/>\n",
       "<text fill=\"#000000\" font-family=\"Times,serif\" font-size=\"14.00\" text-anchor=\"middle\" x=\"656.7671\" y=\"-191.3\">input:</text>\n",
       "<polyline fill=\"none\" points=\"628.9326,-184.5 684.6016,-184.5 \" stroke=\"#000000\"/>\n",
       "<text fill=\"#000000\" font-family=\"Times,serif\" font-size=\"14.00\" text-anchor=\"middle\" x=\"656.7671\" y=\"-169.3\">output:</text>\n",
       "<polyline fill=\"none\" points=\"684.6016,-162.5 684.6016,-206.5 \" stroke=\"#000000\"/>\n",
       "<text fill=\"#000000\" font-family=\"Times,serif\" font-size=\"14.00\" text-anchor=\"middle\" x=\"726.4258\" y=\"-191.3\">(None, 1)</text>\n",
       "<polyline fill=\"none\" points=\"684.6016,-184.5 768.25,-184.5 \" stroke=\"#000000\"/>\n",
       "<text fill=\"#000000\" font-family=\"Times,serif\" font-size=\"14.00\" text-anchor=\"middle\" x=\"726.4258\" y=\"-169.3\">(None, 1, 3)</text>\n",
       "</g>\n",
       "<!-- 4944467000&#45;&gt;4905098544 -->\n",
       "<g class=\"edge\" id=\"edge2\">\n",
       "<title>4944467000-&gt;4905098544</title>\n",
       "<path d=\"M583.2227,-243.3664C583.2227,-235.1516 583.2227,-225.6579 583.2227,-216.7252\" fill=\"none\" stroke=\"#000000\"/>\n",
       "<polygon fill=\"#000000\" points=\"586.7228,-216.6068 583.2227,-206.6068 579.7228,-216.6069 586.7228,-216.6068\" stroke=\"#000000\"/>\n",
       "</g>\n",
       "<!-- 4944468120 -->\n",
       "<g class=\"node\" id=\"node5\">\n",
       "<title>4944468120</title>\n",
       "<polygon fill=\"none\" points=\"97.9863,-81.5 97.9863,-125.5 380.459,-125.5 380.459,-81.5 97.9863,-81.5\" stroke=\"#000000\"/>\n",
       "<text fill=\"#000000\" font-family=\"Times,serif\" font-size=\"14.00\" text-anchor=\"middle\" x=\"169.564\" y=\"-99.3\">FlattenMovies: Flatten</text>\n",
       "<polyline fill=\"none\" points=\"241.1416,-81.5 241.1416,-125.5 \" stroke=\"#000000\"/>\n",
       "<text fill=\"#000000\" font-family=\"Times,serif\" font-size=\"14.00\" text-anchor=\"middle\" x=\"268.9761\" y=\"-110.3\">input:</text>\n",
       "<polyline fill=\"none\" points=\"241.1416,-103.5 296.8105,-103.5 \" stroke=\"#000000\"/>\n",
       "<text fill=\"#000000\" font-family=\"Times,serif\" font-size=\"14.00\" text-anchor=\"middle\" x=\"268.9761\" y=\"-88.3\">output:</text>\n",
       "<polyline fill=\"none\" points=\"296.8105,-81.5 296.8105,-125.5 \" stroke=\"#000000\"/>\n",
       "<text fill=\"#000000\" font-family=\"Times,serif\" font-size=\"14.00\" text-anchor=\"middle\" x=\"338.6348\" y=\"-110.3\">(None, 1, 3)</text>\n",
       "<polyline fill=\"none\" points=\"296.8105,-103.5 380.459,-103.5 \" stroke=\"#000000\"/>\n",
       "<text fill=\"#000000\" font-family=\"Times,serif\" font-size=\"14.00\" text-anchor=\"middle\" x=\"338.6348\" y=\"-88.3\">(None, 3)</text>\n",
       "</g>\n",
       "<!-- 4371520144&#45;&gt;4944468120 -->\n",
       "<g class=\"edge\" id=\"edge3\">\n",
       "<title>4371520144-&gt;4944468120</title>\n",
       "<path d=\"M203.6121,-162.3664C208.8516,-153.7052 214.9512,-143.6222 220.6063,-134.274\" fill=\"none\" stroke=\"#000000\"/>\n",
       "<polygon fill=\"#000000\" points=\"223.668,-135.9747 225.8494,-125.6068 217.6787,-132.3515 223.668,-135.9747\" stroke=\"#000000\"/>\n",
       "</g>\n",
       "<!-- 4905098992 -->\n",
       "<g class=\"node\" id=\"node6\">\n",
       "<title>4905098992</title>\n",
       "<polygon fill=\"none\" points=\"422.0449,-81.5 422.0449,-125.5 694.4004,-125.5 694.4004,-81.5 422.0449,-81.5\" stroke=\"#000000\"/>\n",
       "<text fill=\"#000000\" font-family=\"Times,serif\" font-size=\"14.00\" text-anchor=\"middle\" x=\"488.564\" y=\"-99.3\">FlattenUsers: Flatten</text>\n",
       "<polyline fill=\"none\" points=\"555.083,-81.5 555.083,-125.5 \" stroke=\"#000000\"/>\n",
       "<text fill=\"#000000\" font-family=\"Times,serif\" font-size=\"14.00\" text-anchor=\"middle\" x=\"582.9175\" y=\"-110.3\">input:</text>\n",
       "<polyline fill=\"none\" points=\"555.083,-103.5 610.752,-103.5 \" stroke=\"#000000\"/>\n",
       "<text fill=\"#000000\" font-family=\"Times,serif\" font-size=\"14.00\" text-anchor=\"middle\" x=\"582.9175\" y=\"-88.3\">output:</text>\n",
       "<polyline fill=\"none\" points=\"610.752,-81.5 610.752,-125.5 \" stroke=\"#000000\"/>\n",
       "<text fill=\"#000000\" font-family=\"Times,serif\" font-size=\"14.00\" text-anchor=\"middle\" x=\"652.5762\" y=\"-110.3\">(None, 1, 3)</text>\n",
       "<polyline fill=\"none\" points=\"610.752,-103.5 694.4004,-103.5 \" stroke=\"#000000\"/>\n",
       "<text fill=\"#000000\" font-family=\"Times,serif\" font-size=\"14.00\" text-anchor=\"middle\" x=\"652.5762\" y=\"-88.3\">(None, 3)</text>\n",
       "</g>\n",
       "<!-- 4905098544&#45;&gt;4905098992 -->\n",
       "<g class=\"edge\" id=\"edge4\">\n",
       "<title>4905098544-&gt;4905098992</title>\n",
       "<path d=\"M576.3913,-162.3664C573.8283,-154.0624 570.862,-144.4514 568.0789,-135.4341\" fill=\"none\" stroke=\"#000000\"/>\n",
       "<polygon fill=\"#000000\" points=\"571.3393,-134.1299 565.0458,-125.6068 564.6506,-136.1943 571.3393,-134.1299\" stroke=\"#000000\"/>\n",
       "</g>\n",
       "<!-- 4936864152 -->\n",
       "<g class=\"node\" id=\"node7\">\n",
       "<title>4936864152</title>\n",
       "<polygon fill=\"none\" points=\"250.438,-.5 250.438,-44.5 522.0073,-44.5 522.0073,-.5 250.438,-.5\" stroke=\"#000000\"/>\n",
       "<text fill=\"#000000\" font-family=\"Times,serif\" font-size=\"14.00\" text-anchor=\"middle\" x=\"288.5776\" y=\"-18.3\">dot_1: Dot</text>\n",
       "<polyline fill=\"none\" points=\"326.7173,-.5 326.7173,-44.5 \" stroke=\"#000000\"/>\n",
       "<text fill=\"#000000\" font-family=\"Times,serif\" font-size=\"14.00\" text-anchor=\"middle\" x=\"354.5518\" y=\"-29.3\">input:</text>\n",
       "<polyline fill=\"none\" points=\"326.7173,-22.5 382.3862,-22.5 \" stroke=\"#000000\"/>\n",
       "<text fill=\"#000000\" font-family=\"Times,serif\" font-size=\"14.00\" text-anchor=\"middle\" x=\"354.5518\" y=\"-7.3\">output:</text>\n",
       "<polyline fill=\"none\" points=\"382.3862,-.5 382.3862,-44.5 \" stroke=\"#000000\"/>\n",
       "<text fill=\"#000000\" font-family=\"Times,serif\" font-size=\"14.00\" text-anchor=\"middle\" x=\"452.1968\" y=\"-29.3\">[(None, 3), (None, 3)]</text>\n",
       "<polyline fill=\"none\" points=\"382.3862,-22.5 522.0073,-22.5 \" stroke=\"#000000\"/>\n",
       "<text fill=\"#000000\" font-family=\"Times,serif\" font-size=\"14.00\" text-anchor=\"middle\" x=\"451.7104\" y=\"-7.3\">(None, 1)</text>\n",
       "</g>\n",
       "<!-- 4944468120&#45;&gt;4936864152 -->\n",
       "<g class=\"edge\" id=\"edge5\">\n",
       "<title>4944468120-&gt;4936864152</title>\n",
       "<path d=\"M279.3911,-81.3664C297.2161,-71.5444 318.3595,-59.894 337.1133,-49.5602\" fill=\"none\" stroke=\"#000000\"/>\n",
       "<polygon fill=\"#000000\" points=\"339.0336,-52.4984 346.1028,-44.6068 335.6553,-46.3675 339.0336,-52.4984\" stroke=\"#000000\"/>\n",
       "</g>\n",
       "<!-- 4905098992&#45;&gt;4936864152 -->\n",
       "<g class=\"edge\" id=\"edge6\">\n",
       "<title>4905098992-&gt;4936864152</title>\n",
       "<path d=\"M511.2229,-81.3664C489.9871,-71.3658 464.7263,-59.4698 442.4898,-48.9979\" fill=\"none\" stroke=\"#000000\"/>\n",
       "<polygon fill=\"#000000\" points=\"443.7038,-45.701 433.1656,-44.6068 440.7214,-52.0339 443.7038,-45.701\" stroke=\"#000000\"/>\n",
       "</g>\n",
       "</g>\n",
       "</svg>"
      ],
      "text/plain": [
       "<IPython.core.display.SVG object>"
      ]
     },
     "execution_count": 62,
     "metadata": {},
     "output_type": "execute_result"
    }
   ],
   "source": [
    "SVG(model_to_dot(model, show_shapes=True).create(prog='dot', format='svg'))"
   ]
  },
  {
   "cell_type": "code",
   "execution_count": 53,
   "metadata": {},
   "outputs": [],
   "source": [
    "history = model.fit([train.user_id, train.movie_id], train.point, epochs=100, verbose=0)"
   ]
  },
  {
   "cell_type": "code",
   "execution_count": 54,
   "metadata": {},
   "outputs": [
    {
     "data": {
      "text/plain": [
       "Text(0, 0.5, 'Train Error')"
      ]
     },
     "execution_count": 54,
     "metadata": {},
     "output_type": "execute_result"
    },
    {
     "data": {
      "image/png": "[encoded data removed]",
      "text/plain": [
       "<Figure size 432x288 with 1 Axes>"
      ]
     },
     "metadata": {
      "needs_background": "light"
     },
     "output_type": "display_data"
    }
   ],
   "source": [
    "pd.Series(history.history['loss']).plot(logy=True)\n",
    "plt.xlabel(\"Epoch\")\n",
    "plt.ylabel(\"Train Error\")"
   ]
  },
  {
   "cell_type": "markdown",
   "metadata": {},
   "source": [
    "### `MAE(Mean Absolute Error)`"
   ]
  },
  {
   "cell_type": "code",
   "execution_count": 55,
   "metadata": {},
   "outputs": [],
   "source": [
    "y_hat = np.round(model.predict([test.user_id, test.movie_id]),0)\n",
    "y_true = test.point"
   ]
  },
  {
   "cell_type": "code",
   "execution_count": 56,
   "metadata": {},
   "outputs": [
    {
     "data": {
      "text/plain": [
       "5.630869742752144"
      ]
     },
     "execution_count": 56,
     "metadata": {},
     "output_type": "execute_result"
    }
   ],
   "source": [
    "mean_absolute_error(y_true, y_hat)"
   ]
  },
  {
   "cell_type": "markdown",
   "metadata": {},
   "source": [
    "### `Learnt Embedding(Movie, User)`"
   ]
  },
  {
   "cell_type": "code",
   "execution_count": 57,
   "metadata": {
    "scrolled": false
   },
   "outputs": [
    {
     "data": {
      "text/html": [
       "<div>\n",
       "<style scoped>\n",
       "    .dataframe tbody tr th:only-of-type {\n",
       "        vertical-align: middle;\n",
       "    }\n",
       "\n",
       "    .dataframe tbody tr th {\n",
       "        vertical-align: top;\n",
       "    }\n",
       "\n",
       "    .dataframe thead th {\n",
       "        text-align: right;\n",
       "    }\n",
       "</style>\n",
       "<table border=\"1\" class=\"dataframe\">\n",
       "  <thead>\n",
       "    <tr style=\"text-align: right;\">\n",
       "      <th></th>\n",
       "      <th>0</th>\n",
       "      <th>1</th>\n",
       "      <th>2</th>\n",
       "    </tr>\n",
       "  </thead>\n",
       "  <tbody>\n",
       "    <tr>\n",
       "      <th>count</th>\n",
       "      <td>2115.000000</td>\n",
       "      <td>2115.000000</td>\n",
       "      <td>2115.000000</td>\n",
       "    </tr>\n",
       "    <tr>\n",
       "      <th>mean</th>\n",
       "      <td>1.883262</td>\n",
       "      <td>1.889277</td>\n",
       "      <td>1.870459</td>\n",
       "    </tr>\n",
       "    <tr>\n",
       "      <th>std</th>\n",
       "      <td>1.133208</td>\n",
       "      <td>1.121489</td>\n",
       "      <td>1.139416</td>\n",
       "    </tr>\n",
       "    <tr>\n",
       "      <th>min</th>\n",
       "      <td>-0.000000</td>\n",
       "      <td>-0.000000</td>\n",
       "      <td>-0.000000</td>\n",
       "    </tr>\n",
       "    <tr>\n",
       "      <th>25%</th>\n",
       "      <td>1.159521</td>\n",
       "      <td>1.216740</td>\n",
       "      <td>0.997336</td>\n",
       "    </tr>\n",
       "    <tr>\n",
       "      <th>50%</th>\n",
       "      <td>2.150859</td>\n",
       "      <td>2.150606</td>\n",
       "      <td>2.149696</td>\n",
       "    </tr>\n",
       "    <tr>\n",
       "      <th>75%</th>\n",
       "      <td>2.544935</td>\n",
       "      <td>2.549323</td>\n",
       "      <td>2.567499</td>\n",
       "    </tr>\n",
       "    <tr>\n",
       "      <th>max</th>\n",
       "      <td>4.589823</td>\n",
       "      <td>4.589783</td>\n",
       "      <td>4.592566</td>\n",
       "    </tr>\n",
       "  </tbody>\n",
       "</table>\n",
       "</div>"
      ],
      "text/plain": [
       "                 0            1            2\n",
       "count  2115.000000  2115.000000  2115.000000\n",
       "mean      1.883262     1.889277     1.870459\n",
       "std       1.133208     1.121489     1.139416\n",
       "min      -0.000000    -0.000000    -0.000000\n",
       "25%       1.159521     1.216740     0.997336\n",
       "50%       2.150859     2.150606     2.149696\n",
       "75%       2.544935     2.549323     2.567499\n",
       "max       4.589823     4.589783     4.592566"
      ]
     },
     "execution_count": 57,
     "metadata": {},
     "output_type": "execute_result"
    }
   ],
   "source": [
    "movie_embedding_learnt = model.get_layer(name='NonNegMovie-Embedding').get_weights()[0]\n",
    "pd.DataFrame(movie_embedding_learnt).describe()"
   ]
  },
  {
   "cell_type": "code",
   "execution_count": 58,
   "metadata": {
    "scrolled": true
   },
   "outputs": [
    {
     "data": {
      "text/html": [
       "<div>\n",
       "<style scoped>\n",
       "    .dataframe tbody tr th:only-of-type {\n",
       "        vertical-align: middle;\n",
       "    }\n",
       "\n",
       "    .dataframe tbody tr th {\n",
       "        vertical-align: top;\n",
       "    }\n",
       "\n",
       "    .dataframe thead th {\n",
       "        text-align: right;\n",
       "    }\n",
       "</style>\n",
       "<table border=\"1\" class=\"dataframe\">\n",
       "  <thead>\n",
       "    <tr style=\"text-align: right;\">\n",
       "      <th></th>\n",
       "      <th>0</th>\n",
       "      <th>1</th>\n",
       "      <th>2</th>\n",
       "    </tr>\n",
       "  </thead>\n",
       "  <tbody>\n",
       "    <tr>\n",
       "      <th>count</th>\n",
       "      <td>15207.000000</td>\n",
       "      <td>15207.000000</td>\n",
       "      <td>15207.000000</td>\n",
       "    </tr>\n",
       "    <tr>\n",
       "      <th>mean</th>\n",
       "      <td>0.700658</td>\n",
       "      <td>0.701510</td>\n",
       "      <td>0.699485</td>\n",
       "    </tr>\n",
       "    <tr>\n",
       "      <th>std</th>\n",
       "      <td>0.422532</td>\n",
       "      <td>0.423422</td>\n",
       "      <td>0.422464</td>\n",
       "    </tr>\n",
       "    <tr>\n",
       "      <th>min</th>\n",
       "      <td>-0.000000</td>\n",
       "      <td>-0.000000</td>\n",
       "      <td>-0.000000</td>\n",
       "    </tr>\n",
       "    <tr>\n",
       "      <th>25%</th>\n",
       "      <td>0.430707</td>\n",
       "      <td>0.427207</td>\n",
       "      <td>0.415235</td>\n",
       "    </tr>\n",
       "    <tr>\n",
       "      <th>50%</th>\n",
       "      <td>0.853094</td>\n",
       "      <td>0.852761</td>\n",
       "      <td>0.851415</td>\n",
       "    </tr>\n",
       "    <tr>\n",
       "      <th>75%</th>\n",
       "      <td>0.912425</td>\n",
       "      <td>0.912931</td>\n",
       "      <td>0.922522</td>\n",
       "    </tr>\n",
       "    <tr>\n",
       "      <th>max</th>\n",
       "      <td>2.766741</td>\n",
       "      <td>2.816224</td>\n",
       "      <td>2.806391</td>\n",
       "    </tr>\n",
       "  </tbody>\n",
       "</table>\n",
       "</div>"
      ],
      "text/plain": [
       "                  0             1             2\n",
       "count  15207.000000  15207.000000  15207.000000\n",
       "mean       0.700658      0.701510      0.699485\n",
       "std        0.422532      0.423422      0.422464\n",
       "min       -0.000000     -0.000000     -0.000000\n",
       "25%        0.430707      0.427207      0.415235\n",
       "50%        0.853094      0.852761      0.851415\n",
       "75%        0.912425      0.912931      0.922522\n",
       "max        2.766741      2.816224      2.806391"
      ]
     },
     "execution_count": 58,
     "metadata": {},
     "output_type": "execute_result"
    }
   ],
   "source": [
    "user_embedding_learnt = model.get_layer(name='NonNegUser-Embedding').get_weights()[0]\n",
    "pd.DataFrame(user_embedding_learnt).describe()"
   ]
  },
  {
   "cell_type": "code",
   "execution_count": null,
   "metadata": {},
   "outputs": [],
   "source": []
  },
  {
   "cell_type": "code",
   "execution_count": null,
   "metadata": {},
   "outputs": [],
   "source": []
  },
  {
   "cell_type": "markdown",
   "metadata": {},
   "source": [
    "## 4.2 optimizer = `Adam`\n",
    "- epoch : 500\n",
    "- latent_factor : 3\n",
    "- MAE : 6.20"
   ]
  },
  {
   "cell_type": "markdown",
   "metadata": {},
   "source": [
    "### `layer`"
   ]
  },
  {
   "cell_type": "code",
   "execution_count": 163,
   "metadata": {},
   "outputs": [],
   "source": [
    "n_users, n_movies = len(df.user_id.unique()), len(df.movie_id.unique())\n",
    "n_latent_factors = 3"
   ]
  },
  {
   "cell_type": "code",
   "execution_count": 164,
   "metadata": {},
   "outputs": [
    {
     "data": {
      "text/plain": [
       "<tf.Tensor 'NonNegMovie-Embedding_7/embedding_lookup/Identity:0' shape=(?, 1, 3) dtype=float32>"
      ]
     },
     "execution_count": 164,
     "metadata": {},
     "output_type": "execute_result"
    }
   ],
   "source": [
    "movie_input = keras.layers.Input(shape=[1],name='Movie')\n",
    "movie_embedding = keras.layers.Embedding(n_movies + 1, n_latent_factors, name='NonNegMovie-Embedding', embeddings_constraint=non_neg())(movie_input)\n",
    "movie_vec = keras.layers.Flatten(name='FlattenMovies')(movie_embedding)\n",
    "movie_embedding"
   ]
  },
  {
   "cell_type": "code",
   "execution_count": 165,
   "metadata": {},
   "outputs": [
    {
     "data": {
      "text/plain": [
       "<tf.Tensor 'FlattenUsers_8/Reshape:0' shape=(?, ?) dtype=float32>"
      ]
     },
     "execution_count": 165,
     "metadata": {},
     "output_type": "execute_result"
    }
   ],
   "source": [
    "user_input = keras.layers.Input(shape=[1],name='User')\n",
    "user_embedding = keras.layers.Embedding(n_users + 1, n_latent_factors, name='NonNegUser-Embedding', embeddings_constraint=non_neg())(user_input)\n",
    "user_vec = keras.layers.Flatten(name='FlattenUsers')(user_embedding)\n",
    "user_vec"
   ]
  },
  {
   "cell_type": "code",
   "execution_count": 166,
   "metadata": {},
   "outputs": [],
   "source": [
    "prod = keras.layers.dot([movie_vec, user_vec], axes=1, normalize=False)\n",
    "model = keras.Model([user_input, movie_input], prod)\n",
    "model.compile('adam', 'mean_squared_error')"
   ]
  },
  {
   "cell_type": "markdown",
   "metadata": {},
   "source": [
    "### `model summary`"
   ]
  },
  {
   "cell_type": "code",
   "execution_count": 167,
   "metadata": {},
   "outputs": [
    {
     "name": "stdout",
     "output_type": "stream",
     "text": [
      "__________________________________________________________________________________________________\n",
      "Layer (type)                    Output Shape         Param #     Connected to                     \n",
      "==================================================================================================\n",
      "Movie (InputLayer)              (None, 1)            0                                            \n",
      "__________________________________________________________________________________________________\n",
      "User (InputLayer)               (None, 1)            0                                            \n",
      "__________________________________________________________________________________________________\n",
      "NonNegMovie-Embedding (Embeddin (None, 1, 3)         3399        Movie[0][0]                      \n",
      "__________________________________________________________________________________________________\n",
      "NonNegUser-Embedding (Embedding (None, 1, 3)         20619       User[0][0]                       \n",
      "__________________________________________________________________________________________________\n",
      "FlattenMovies (Flatten)         (None, 3)            0           NonNegMovie-Embedding[0][0]      \n",
      "__________________________________________________________________________________________________\n",
      "FlattenUsers (Flatten)          (None, 3)            0           NonNegUser-Embedding[0][0]       \n",
      "__________________________________________________________________________________________________\n",
      "dot_16 (Dot)                    (None, 1)            0           FlattenMovies[0][0]              \n",
      "                                                                 FlattenUsers[0][0]               \n",
      "==================================================================================================\n",
      "Total params: 24,018\n",
      "Trainable params: 24,018\n",
      "Non-trainable params: 0\n",
      "__________________________________________________________________________________________________\n"
     ]
    }
   ],
   "source": [
    "model.summary()"
   ]
  },
  {
   "cell_type": "markdown",
   "metadata": {},
   "source": [
    "### `Error Graph`"
   ]
  },
  {
   "cell_type": "code",
   "execution_count": 168,
   "metadata": {},
   "outputs": [],
   "source": [
    "history = model.fit([train.user_id, train.movie_id], train.point, epochs=500, verbose=0)"
   ]
  },
  {
   "cell_type": "code",
   "execution_count": 169,
   "metadata": {},
   "outputs": [
    {
     "data": {
      "text/plain": [
       "Text(0, 0.5, 'Train Error')"
      ]
     },
     "execution_count": 169,
     "metadata": {},
     "output_type": "execute_result"
    },
    {
     "data": {
      "image/png": "[encoded data removed]",
      "text/plain": [
       "<Figure size 432x288 with 1 Axes>"
      ]
     },
     "metadata": {
      "needs_background": "light"
     },
     "output_type": "display_data"
    }
   ],
   "source": [
    "pd.Series(history.history['loss']).plot(logy=True)\n",
    "plt.xlabel(\"Epoch\")\n",
    "plt.ylabel(\"Train Error\")"
   ]
  },
  {
   "cell_type": "markdown",
   "metadata": {},
   "source": [
    "### `MAE(Mean Absolute Error)`"
   ]
  },
  {
   "cell_type": "code",
   "execution_count": 170,
   "metadata": {},
   "outputs": [],
   "source": [
    "y_hat = np.round(model.predict([test.user_id, test.movie_id]),0)\n",
    "y_true = test.point"
   ]
  },
  {
   "cell_type": "code",
   "execution_count": 171,
   "metadata": {},
   "outputs": [
    {
     "data": {
      "text/plain": [
       "6.224"
      ]
     },
     "execution_count": 171,
     "metadata": {},
     "output_type": "execute_result"
    }
   ],
   "source": [
    "mean_absolute_error(y_true, y_hat)"
   ]
  },
  {
   "cell_type": "markdown",
   "metadata": {},
   "source": [
    "### `Learnt Embedding(Movie, User)`"
   ]
  },
  {
   "cell_type": "code",
   "execution_count": 172,
   "metadata": {
    "scrolled": false
   },
   "outputs": [
    {
     "data": {
      "text/html": [
       "<div>\n",
       "<style scoped>\n",
       "    .dataframe tbody tr th:only-of-type {\n",
       "        vertical-align: middle;\n",
       "    }\n",
       "\n",
       "    .dataframe tbody tr th {\n",
       "        vertical-align: top;\n",
       "    }\n",
       "\n",
       "    .dataframe thead th {\n",
       "        text-align: right;\n",
       "    }\n",
       "</style>\n",
       "<table border=\"1\" class=\"dataframe\">\n",
       "  <thead>\n",
       "    <tr style=\"text-align: right;\">\n",
       "      <th></th>\n",
       "      <th>0</th>\n",
       "      <th>1</th>\n",
       "      <th>2</th>\n",
       "    </tr>\n",
       "  </thead>\n",
       "  <tbody>\n",
       "    <tr>\n",
       "      <th>count</th>\n",
       "      <td>1133.000000</td>\n",
       "      <td>1133.000000</td>\n",
       "      <td>1133.000000</td>\n",
       "    </tr>\n",
       "    <tr>\n",
       "      <th>mean</th>\n",
       "      <td>1.801747</td>\n",
       "      <td>1.833877</td>\n",
       "      <td>1.798484</td>\n",
       "    </tr>\n",
       "    <tr>\n",
       "      <th>std</th>\n",
       "      <td>1.382380</td>\n",
       "      <td>1.391093</td>\n",
       "      <td>1.420996</td>\n",
       "    </tr>\n",
       "    <tr>\n",
       "      <th>min</th>\n",
       "      <td>-0.000000</td>\n",
       "      <td>-0.000000</td>\n",
       "      <td>-0.000000</td>\n",
       "    </tr>\n",
       "    <tr>\n",
       "      <th>25%</th>\n",
       "      <td>0.454593</td>\n",
       "      <td>0.558505</td>\n",
       "      <td>0.448238</td>\n",
       "    </tr>\n",
       "    <tr>\n",
       "      <th>50%</th>\n",
       "      <td>1.838351</td>\n",
       "      <td>1.846816</td>\n",
       "      <td>1.823929</td>\n",
       "    </tr>\n",
       "    <tr>\n",
       "      <th>75%</th>\n",
       "      <td>2.761463</td>\n",
       "      <td>2.790259</td>\n",
       "      <td>2.722675</td>\n",
       "    </tr>\n",
       "    <tr>\n",
       "      <th>max</th>\n",
       "      <td>7.891548</td>\n",
       "      <td>7.372180</td>\n",
       "      <td>8.117141</td>\n",
       "    </tr>\n",
       "  </tbody>\n",
       "</table>\n",
       "</div>"
      ],
      "text/plain": [
       "                 0            1            2\n",
       "count  1133.000000  1133.000000  1133.000000\n",
       "mean      1.801747     1.833877     1.798484\n",
       "std       1.382380     1.391093     1.420996\n",
       "min      -0.000000    -0.000000    -0.000000\n",
       "25%       0.454593     0.558505     0.448238\n",
       "50%       1.838351     1.846816     1.823929\n",
       "75%       2.761463     2.790259     2.722675\n",
       "max       7.891548     7.372180     8.117141"
      ]
     },
     "execution_count": 172,
     "metadata": {},
     "output_type": "execute_result"
    }
   ],
   "source": [
    "movie_embedding_learnt = model.get_layer(name='NonNegMovie-Embedding').get_weights()[0]\n",
    "pd.DataFrame(movie_embedding_learnt).describe()"
   ]
  },
  {
   "cell_type": "code",
   "execution_count": 173,
   "metadata": {
    "scrolled": false
   },
   "outputs": [
    {
     "data": {
      "text/html": [
       "<div>\n",
       "<style scoped>\n",
       "    .dataframe tbody tr th:only-of-type {\n",
       "        vertical-align: middle;\n",
       "    }\n",
       "\n",
       "    .dataframe tbody tr th {\n",
       "        vertical-align: top;\n",
       "    }\n",
       "\n",
       "    .dataframe thead th {\n",
       "        text-align: right;\n",
       "    }\n",
       "</style>\n",
       "<table border=\"1\" class=\"dataframe\">\n",
       "  <thead>\n",
       "    <tr style=\"text-align: right;\">\n",
       "      <th></th>\n",
       "      <th>0</th>\n",
       "      <th>1</th>\n",
       "      <th>2</th>\n",
       "    </tr>\n",
       "  </thead>\n",
       "  <tbody>\n",
       "    <tr>\n",
       "      <th>count</th>\n",
       "      <td>6873.000000</td>\n",
       "      <td>6873.000000</td>\n",
       "      <td>6873.000000</td>\n",
       "    </tr>\n",
       "    <tr>\n",
       "      <th>mean</th>\n",
       "      <td>0.873798</td>\n",
       "      <td>0.874937</td>\n",
       "      <td>0.886296</td>\n",
       "    </tr>\n",
       "    <tr>\n",
       "      <th>std</th>\n",
       "      <td>0.580303</td>\n",
       "      <td>0.591070</td>\n",
       "      <td>0.594667</td>\n",
       "    </tr>\n",
       "    <tr>\n",
       "      <th>min</th>\n",
       "      <td>-0.000000</td>\n",
       "      <td>-0.000000</td>\n",
       "      <td>-0.000000</td>\n",
       "    </tr>\n",
       "    <tr>\n",
       "      <th>25%</th>\n",
       "      <td>0.346093</td>\n",
       "      <td>0.355701</td>\n",
       "      <td>0.442927</td>\n",
       "    </tr>\n",
       "    <tr>\n",
       "      <th>50%</th>\n",
       "      <td>1.087010</td>\n",
       "      <td>1.074983</td>\n",
       "      <td>1.101935</td>\n",
       "    </tr>\n",
       "    <tr>\n",
       "      <th>75%</th>\n",
       "      <td>1.129438</td>\n",
       "      <td>1.120063</td>\n",
       "      <td>1.124678</td>\n",
       "    </tr>\n",
       "    <tr>\n",
       "      <th>max</th>\n",
       "      <td>6.197117</td>\n",
       "      <td>6.042282</td>\n",
       "      <td>6.134395</td>\n",
       "    </tr>\n",
       "  </tbody>\n",
       "</table>\n",
       "</div>"
      ],
      "text/plain": [
       "                 0            1            2\n",
       "count  6873.000000  6873.000000  6873.000000\n",
       "mean      0.873798     0.874937     0.886296\n",
       "std       0.580303     0.591070     0.594667\n",
       "min      -0.000000    -0.000000    -0.000000\n",
       "25%       0.346093     0.355701     0.442927\n",
       "50%       1.087010     1.074983     1.101935\n",
       "75%       1.129438     1.120063     1.124678\n",
       "max       6.197117     6.042282     6.134395"
      ]
     },
     "execution_count": 173,
     "metadata": {},
     "output_type": "execute_result"
    }
   ],
   "source": [
    "user_embedding_learnt = model.get_layer(name='NonNegUser-Embedding').get_weights()[0]\n",
    "pd.DataFrame(user_embedding_learnt).describe()"
   ]
  },
  {
   "cell_type": "markdown",
   "metadata": {},
   "source": [
    "## 4.3 optimizer = `SGD`(Stochastic gradient descent optimizer)\n",
    "- epoch : 100\n",
    "- latent_factor : 3\n",
    "- MAE : 6.1235"
   ]
  },
  {
   "cell_type": "markdown",
   "metadata": {},
   "source": [
    "### `layer`"
   ]
  },
  {
   "cell_type": "code",
   "execution_count": 200,
   "metadata": {},
   "outputs": [],
   "source": [
    "n_users, n_movies = len(df.user_id.unique()), len(df.movie_id.unique())\n",
    "n_latent_factors = 3"
   ]
  },
  {
   "cell_type": "code",
   "execution_count": 201,
   "metadata": {},
   "outputs": [
    {
     "data": {
      "text/plain": [
       "<tf.Tensor 'NonNegMovie-Embedding_8/embedding_lookup/Identity:0' shape=(?, 1, 3) dtype=float32>"
      ]
     },
     "execution_count": 201,
     "metadata": {},
     "output_type": "execute_result"
    }
   ],
   "source": [
    "movie_input = keras.layers.Input(shape=[1],name='Movie')\n",
    "movie_embedding = keras.layers.Embedding(n_movies + 1, n_latent_factors, name='NonNegMovie-Embedding', embeddings_constraint=non_neg())(movie_input)\n",
    "movie_vec = keras.layers.Flatten(name='FlattenMovies')(movie_embedding)\n",
    "movie_embedding"
   ]
  },
  {
   "cell_type": "code",
   "execution_count": 202,
   "metadata": {},
   "outputs": [
    {
     "data": {
      "text/plain": [
       "<tf.Tensor 'FlattenUsers_9/Reshape:0' shape=(?, ?) dtype=float32>"
      ]
     },
     "execution_count": 202,
     "metadata": {},
     "output_type": "execute_result"
    }
   ],
   "source": [
    "user_input = keras.layers.Input(shape=[1],name='User')\n",
    "user_embedding = keras.layers.Embedding(n_users + 1, n_latent_factors, name='NonNegUser-Embedding', embeddings_constraint=non_neg())(user_input)\n",
    "user_vec = keras.layers.Flatten(name='FlattenUsers')(user_embedding)\n",
    "user_vec"
   ]
  },
  {
   "cell_type": "code",
   "execution_count": 203,
   "metadata": {},
   "outputs": [],
   "source": [
    "prod = keras.layers.dot([movie_vec, user_vec], axes=1, normalize=False)\n",
    "model = keras.Model([user_input, movie_input], prod)\n",
    "model.compile('sgd', 'mean_squared_error')"
   ]
  },
  {
   "cell_type": "markdown",
   "metadata": {},
   "source": [
    "### `model summary`"
   ]
  },
  {
   "cell_type": "code",
   "execution_count": 204,
   "metadata": {
    "scrolled": true
   },
   "outputs": [
    {
     "name": "stdout",
     "output_type": "stream",
     "text": [
      "__________________________________________________________________________________________________\n",
      "Layer (type)                    Output Shape         Param #     Connected to                     \n",
      "==================================================================================================\n",
      "Movie (InputLayer)              (None, 1)            0                                            \n",
      "__________________________________________________________________________________________________\n",
      "User (InputLayer)               (None, 1)            0                                            \n",
      "__________________________________________________________________________________________________\n",
      "NonNegMovie-Embedding (Embeddin (None, 1, 3)         3399        Movie[0][0]                      \n",
      "__________________________________________________________________________________________________\n",
      "NonNegUser-Embedding (Embedding (None, 1, 3)         20619       User[0][0]                       \n",
      "__________________________________________________________________________________________________\n",
      "FlattenMovies (Flatten)         (None, 3)            0           NonNegMovie-Embedding[0][0]      \n",
      "__________________________________________________________________________________________________\n",
      "FlattenUsers (Flatten)          (None, 3)            0           NonNegUser-Embedding[0][0]       \n",
      "__________________________________________________________________________________________________\n",
      "dot_18 (Dot)                    (None, 1)            0           FlattenMovies[0][0]              \n",
      "                                                                 FlattenUsers[0][0]               \n",
      "==================================================================================================\n",
      "Total params: 24,018\n",
      "Trainable params: 24,018\n",
      "Non-trainable params: 0\n",
      "__________________________________________________________________________________________________\n"
     ]
    }
   ],
   "source": [
    "model.summary()"
   ]
  },
  {
   "cell_type": "markdown",
   "metadata": {},
   "source": [
    "### `Error Graph`"
   ]
  },
  {
   "cell_type": "code",
   "execution_count": 205,
   "metadata": {},
   "outputs": [],
   "source": [
    "history = model.fit([train.user_id, train.movie_id], train.point, epochs=100, verbose=0)"
   ]
  },
  {
   "cell_type": "code",
   "execution_count": 206,
   "metadata": {
    "scrolled": true
   },
   "outputs": [
    {
     "data": {
      "text/plain": [
       "Text(0, 0.5, 'Train Error')"
      ]
     },
     "execution_count": 206,
     "metadata": {},
     "output_type": "execute_result"
    },
    {
     "data": {
      "image/png": "[encoded data removed]",
      "text/plain": [
       "<Figure size 432x288 with 1 Axes>"
      ]
     },
     "metadata": {
      "needs_background": "light"
     },
     "output_type": "display_data"
    }
   ],
   "source": [
    "pd.Series(history.history['loss']).plot(logy=True)\n",
    "plt.xlabel(\"Epoch\")\n",
    "plt.ylabel(\"Train Error\")"
   ]
  },
  {
   "cell_type": "markdown",
   "metadata": {},
   "source": [
    "### `MAE(Mean Absolute Error)`"
   ]
  },
  {
   "cell_type": "code",
   "execution_count": 207,
   "metadata": {},
   "outputs": [],
   "source": [
    "y_hat = np.round(model.predict([test.user_id, test.movie_id]),0)\n",
    "y_true = test.point"
   ]
  },
  {
   "cell_type": "code",
   "execution_count": 208,
   "metadata": {
    "scrolled": true
   },
   "outputs": [
    {
     "data": {
      "text/plain": [
       "6.74"
      ]
     },
     "execution_count": 208,
     "metadata": {},
     "output_type": "execute_result"
    }
   ],
   "source": [
    "mean_absolute_error(y_true, y_hat)"
   ]
  },
  {
   "cell_type": "markdown",
   "metadata": {},
   "source": [
    "### `Learnt Embedding(Movie, User)`"
   ]
  },
  {
   "cell_type": "code",
   "execution_count": 139,
   "metadata": {
    "scrolled": true
   },
   "outputs": [
    {
     "data": {
      "text/html": [
       "<div>\n",
       "<style scoped>\n",
       "    .dataframe tbody tr th:only-of-type {\n",
       "        vertical-align: middle;\n",
       "    }\n",
       "\n",
       "    .dataframe tbody tr th {\n",
       "        vertical-align: top;\n",
       "    }\n",
       "\n",
       "    .dataframe thead th {\n",
       "        text-align: right;\n",
       "    }\n",
       "</style>\n",
       "<table border=\"1\" class=\"dataframe\">\n",
       "  <thead>\n",
       "    <tr style=\"text-align: right;\">\n",
       "      <th></th>\n",
       "      <th>0</th>\n",
       "      <th>1</th>\n",
       "      <th>2</th>\n",
       "    </tr>\n",
       "  </thead>\n",
       "  <tbody>\n",
       "    <tr>\n",
       "      <th>count</th>\n",
       "      <td>1133.000000</td>\n",
       "      <td>1133.000000</td>\n",
       "      <td>1133.000000</td>\n",
       "    </tr>\n",
       "    <tr>\n",
       "      <th>mean</th>\n",
       "      <td>0.824630</td>\n",
       "      <td>0.947791</td>\n",
       "      <td>0.992659</td>\n",
       "    </tr>\n",
       "    <tr>\n",
       "      <th>std</th>\n",
       "      <td>1.084782</td>\n",
       "      <td>1.080911</td>\n",
       "      <td>1.145034</td>\n",
       "    </tr>\n",
       "    <tr>\n",
       "      <th>min</th>\n",
       "      <td>0.000000</td>\n",
       "      <td>0.000000</td>\n",
       "      <td>0.000000</td>\n",
       "    </tr>\n",
       "    <tr>\n",
       "      <th>25%</th>\n",
       "      <td>0.043048</td>\n",
       "      <td>0.044711</td>\n",
       "      <td>0.041723</td>\n",
       "    </tr>\n",
       "    <tr>\n",
       "      <th>50%</th>\n",
       "      <td>0.444850</td>\n",
       "      <td>0.505641</td>\n",
       "      <td>0.521075</td>\n",
       "    </tr>\n",
       "    <tr>\n",
       "      <th>75%</th>\n",
       "      <td>1.233969</td>\n",
       "      <td>1.588560</td>\n",
       "      <td>1.658374</td>\n",
       "    </tr>\n",
       "    <tr>\n",
       "      <th>max</th>\n",
       "      <td>15.324163</td>\n",
       "      <td>7.887859</td>\n",
       "      <td>6.678165</td>\n",
       "    </tr>\n",
       "  </tbody>\n",
       "</table>\n",
       "</div>"
      ],
      "text/plain": [
       "                 0            1            2\n",
       "count  1133.000000  1133.000000  1133.000000\n",
       "mean      0.824630     0.947791     0.992659\n",
       "std       1.084782     1.080911     1.145034\n",
       "min       0.000000     0.000000     0.000000\n",
       "25%       0.043048     0.044711     0.041723\n",
       "50%       0.444850     0.505641     0.521075\n",
       "75%       1.233969     1.588560     1.658374\n",
       "max      15.324163     7.887859     6.678165"
      ]
     },
     "execution_count": 139,
     "metadata": {},
     "output_type": "execute_result"
    }
   ],
   "source": [
    "movie_embedding_learnt = model.get_layer(name='NonNegMovie-Embedding').get_weights()[0]\n",
    "pd.DataFrame(movie_embedding_learnt).describe()"
   ]
  },
  {
   "cell_type": "code",
   "execution_count": 140,
   "metadata": {},
   "outputs": [
    {
     "data": {
      "text/html": [
       "<div>\n",
       "<style scoped>\n",
       "    .dataframe tbody tr th:only-of-type {\n",
       "        vertical-align: middle;\n",
       "    }\n",
       "\n",
       "    .dataframe tbody tr th {\n",
       "        vertical-align: top;\n",
       "    }\n",
       "\n",
       "    .dataframe thead th {\n",
       "        text-align: right;\n",
       "    }\n",
       "</style>\n",
       "<table border=\"1\" class=\"dataframe\">\n",
       "  <thead>\n",
       "    <tr style=\"text-align: right;\">\n",
       "      <th></th>\n",
       "      <th>0</th>\n",
       "      <th>1</th>\n",
       "      <th>2</th>\n",
       "    </tr>\n",
       "  </thead>\n",
       "  <tbody>\n",
       "    <tr>\n",
       "      <th>count</th>\n",
       "      <td>6873.000000</td>\n",
       "      <td>6873.000000</td>\n",
       "      <td>6873.000000</td>\n",
       "    </tr>\n",
       "    <tr>\n",
       "      <th>mean</th>\n",
       "      <td>0.469553</td>\n",
       "      <td>0.461546</td>\n",
       "      <td>0.488873</td>\n",
       "    </tr>\n",
       "    <tr>\n",
       "      <th>std</th>\n",
       "      <td>0.332779</td>\n",
       "      <td>0.372263</td>\n",
       "      <td>0.389991</td>\n",
       "    </tr>\n",
       "    <tr>\n",
       "      <th>min</th>\n",
       "      <td>0.000000</td>\n",
       "      <td>0.000000</td>\n",
       "      <td>0.000000</td>\n",
       "    </tr>\n",
       "    <tr>\n",
       "      <th>25%</th>\n",
       "      <td>0.140787</td>\n",
       "      <td>0.139480</td>\n",
       "      <td>0.141392</td>\n",
       "    </tr>\n",
       "    <tr>\n",
       "      <th>50%</th>\n",
       "      <td>0.575946</td>\n",
       "      <td>0.444830</td>\n",
       "      <td>0.477104</td>\n",
       "    </tr>\n",
       "    <tr>\n",
       "      <th>75%</th>\n",
       "      <td>0.582472</td>\n",
       "      <td>0.645901</td>\n",
       "      <td>0.679435</td>\n",
       "    </tr>\n",
       "    <tr>\n",
       "      <th>max</th>\n",
       "      <td>3.421297</td>\n",
       "      <td>2.735481</td>\n",
       "      <td>2.821525</td>\n",
       "    </tr>\n",
       "  </tbody>\n",
       "</table>\n",
       "</div>"
      ],
      "text/plain": [
       "                 0            1            2\n",
       "count  6873.000000  6873.000000  6873.000000\n",
       "mean      0.469553     0.461546     0.488873\n",
       "std       0.332779     0.372263     0.389991\n",
       "min       0.000000     0.000000     0.000000\n",
       "25%       0.140787     0.139480     0.141392\n",
       "50%       0.575946     0.444830     0.477104\n",
       "75%       0.582472     0.645901     0.679435\n",
       "max       3.421297     2.735481     2.821525"
      ]
     },
     "execution_count": 140,
     "metadata": {},
     "output_type": "execute_result"
    }
   ],
   "source": [
    "user_embedding_learnt = model.get_layer(name='NonNegUser-Embedding').get_weights()[0]\n",
    "pd.DataFrame(user_embedding_learnt).describe()"
   ]
  }
 ],
 "metadata": {
  "kernelspec": {
   "display_name": "Python 3",
   "language": "python",
   "name": "python3"
  },
  "language_info": {
   "codemirror_mode": {
    "name": "ipython",
    "version": 3
   },
   "file_extension": ".py",
   "mimetype": "text/x-python",
   "name": "python",
   "nbconvert_exporter": "python",
   "pygments_lexer": "ipython3",
   "version": "3.6.0"
  }
 },
 "nbformat": 4,
 "nbformat_minor": 2
}
